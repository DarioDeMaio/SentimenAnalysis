{
 "cells": [
  {
   "cell_type": "code",
   "execution_count": 1,
   "metadata": {},
   "outputs": [
    {
     "name": "stdout",
     "output_type": "stream",
     "text": [
      "Collecting feel-it\n",
      "  Downloading feel_it-1.0.5-py2.py3-none-any.whl (6.1 kB)\n",
      "Requirement already satisfied: transformers>=4.11.3 in c:\\users\\demai\\appdata\\local\\packages\\pythonsoftwarefoundation.python.3.10_qbz5n2kfra8p0\\localcache\\local-packages\\python310\\site-packages (from feel-it) (4.28.1)\n",
      "Requirement already satisfied: numpy in c:\\users\\demai\\appdata\\local\\packages\\pythonsoftwarefoundation.python.3.10_qbz5n2kfra8p0\\localcache\\local-packages\\python310\\site-packages (from feel-it) (1.23.5)\n",
      "Requirement already satisfied: torch>=1.6.0 in c:\\users\\demai\\appdata\\local\\packages\\pythonsoftwarefoundation.python.3.10_qbz5n2kfra8p0\\localcache\\local-packages\\python310\\site-packages (from feel-it) (2.0.0+cu117)\n",
      "Requirement already satisfied: filelock in c:\\users\\demai\\appdata\\local\\packages\\pythonsoftwarefoundation.python.3.10_qbz5n2kfra8p0\\localcache\\local-packages\\python310\\site-packages (from torch>=1.6.0->feel-it) (3.9.0)\n",
      "Requirement already satisfied: typing-extensions in c:\\users\\demai\\appdata\\local\\packages\\pythonsoftwarefoundation.python.3.10_qbz5n2kfra8p0\\localcache\\local-packages\\python310\\site-packages (from torch>=1.6.0->feel-it) (4.4.0)\n",
      "Requirement already satisfied: sympy in c:\\users\\demai\\appdata\\local\\packages\\pythonsoftwarefoundation.python.3.10_qbz5n2kfra8p0\\localcache\\local-packages\\python310\\site-packages (from torch>=1.6.0->feel-it) (1.11.1)\n",
      "Requirement already satisfied: networkx in c:\\users\\demai\\appdata\\local\\packages\\pythonsoftwarefoundation.python.3.10_qbz5n2kfra8p0\\localcache\\local-packages\\python310\\site-packages (from torch>=1.6.0->feel-it) (3.0)\n",
      "Requirement already satisfied: jinja2 in c:\\users\\demai\\appdata\\local\\packages\\pythonsoftwarefoundation.python.3.10_qbz5n2kfra8p0\\localcache\\local-packages\\python310\\site-packages (from torch>=1.6.0->feel-it) (3.1.2)\n",
      "Requirement already satisfied: huggingface-hub<1.0,>=0.11.0 in c:\\users\\demai\\appdata\\local\\packages\\pythonsoftwarefoundation.python.3.10_qbz5n2kfra8p0\\localcache\\local-packages\\python310\\site-packages (from transformers>=4.11.3->feel-it) (0.13.4)\n",
      "Requirement already satisfied: packaging>=20.0 in c:\\users\\demai\\appdata\\local\\packages\\pythonsoftwarefoundation.python.3.10_qbz5n2kfra8p0\\localcache\\local-packages\\python310\\site-packages (from transformers>=4.11.3->feel-it) (22.0)\n",
      "Requirement already satisfied: pyyaml>=5.1 in c:\\users\\demai\\appdata\\local\\packages\\pythonsoftwarefoundation.python.3.10_qbz5n2kfra8p0\\localcache\\local-packages\\python310\\site-packages (from transformers>=4.11.3->feel-it) (6.0)\n",
      "Requirement already satisfied: regex!=2019.12.17 in c:\\users\\demai\\appdata\\local\\packages\\pythonsoftwarefoundation.python.3.10_qbz5n2kfra8p0\\localcache\\local-packages\\python310\\site-packages (from transformers>=4.11.3->feel-it) (2023.3.23)\n",
      "Requirement already satisfied: requests in c:\\users\\demai\\appdata\\local\\packages\\pythonsoftwarefoundation.python.3.10_qbz5n2kfra8p0\\localcache\\local-packages\\python310\\site-packages (from transformers>=4.11.3->feel-it) (2.28.2)\n",
      "Requirement already satisfied: tokenizers!=0.11.3,<0.14,>=0.11.1 in c:\\users\\demai\\appdata\\local\\packages\\pythonsoftwarefoundation.python.3.10_qbz5n2kfra8p0\\localcache\\local-packages\\python310\\site-packages (from transformers>=4.11.3->feel-it) (0.13.3)\n",
      "Requirement already satisfied: tqdm>=4.27 in c:\\users\\demai\\appdata\\local\\packages\\pythonsoftwarefoundation.python.3.10_qbz5n2kfra8p0\\localcache\\local-packages\\python310\\site-packages (from transformers>=4.11.3->feel-it) (4.65.0)\n",
      "Requirement already satisfied: colorama in c:\\users\\demai\\appdata\\local\\packages\\pythonsoftwarefoundation.python.3.10_qbz5n2kfra8p0\\localcache\\local-packages\\python310\\site-packages (from tqdm>=4.27->transformers>=4.11.3->feel-it) (0.4.6)\n",
      "Requirement already satisfied: MarkupSafe>=2.0 in c:\\users\\demai\\appdata\\local\\packages\\pythonsoftwarefoundation.python.3.10_qbz5n2kfra8p0\\localcache\\local-packages\\python310\\site-packages (from jinja2->torch>=1.6.0->feel-it) (2.1.2)\n",
      "Requirement already satisfied: charset-normalizer<4,>=2 in c:\\users\\demai\\appdata\\local\\packages\\pythonsoftwarefoundation.python.3.10_qbz5n2kfra8p0\\localcache\\local-packages\\python310\\site-packages (from requests->transformers>=4.11.3->feel-it) (3.0.1)\n",
      "Requirement already satisfied: idna<4,>=2.5 in c:\\users\\demai\\appdata\\local\\packages\\pythonsoftwarefoundation.python.3.10_qbz5n2kfra8p0\\localcache\\local-packages\\python310\\site-packages (from requests->transformers>=4.11.3->feel-it) (3.4)\n",
      "Requirement already satisfied: urllib3<1.27,>=1.21.1 in c:\\users\\demai\\appdata\\local\\packages\\pythonsoftwarefoundation.python.3.10_qbz5n2kfra8p0\\localcache\\local-packages\\python310\\site-packages (from requests->transformers>=4.11.3->feel-it) (1.26.14)\n",
      "Requirement already satisfied: certifi>=2017.4.17 in c:\\users\\demai\\appdata\\local\\packages\\pythonsoftwarefoundation.python.3.10_qbz5n2kfra8p0\\localcache\\local-packages\\python310\\site-packages (from requests->transformers>=4.11.3->feel-it) (2022.12.7)\n",
      "Requirement already satisfied: mpmath>=0.19 in c:\\users\\demai\\appdata\\local\\packages\\pythonsoftwarefoundation.python.3.10_qbz5n2kfra8p0\\localcache\\local-packages\\python310\\site-packages (from sympy->torch>=1.6.0->feel-it) (1.2.1)\n",
      "Installing collected packages: feel-it\n",
      "Successfully installed feel-it-1.0.5\n"
     ]
    },
    {
     "name": "stderr",
     "output_type": "stream",
     "text": [
      "DEPRECATION: pytorch-lightning 1.5.10 has a non-standard dependency specifier torch>=1.7.*. pip 24.0 will enforce this behaviour change. A possible replacement is to upgrade to a newer version of pytorch-lightning or contact the author to suggest that they release a version with a conforming dependency specifiers. Discussion can be found at https://github.com/pypa/pip/issues/12063\n"
     ]
    }
   ],
   "source": [
    "!pip install -U feel-it"
   ]
  },
  {
   "cell_type": "code",
   "execution_count": 8,
   "metadata": {},
   "outputs": [],
   "source": [
    "from feel_it import EmotionClassifier\n",
    "import pandas as pd\n",
    "import nltk\n",
    "from nltk.corpus import stopwords"
   ]
  },
  {
   "cell_type": "code",
   "execution_count": 9,
   "metadata": {},
   "outputs": [],
   "source": [
    "df = pd.read_csv('Dati.csv')"
   ]
  },
  {
   "cell_type": "code",
   "execution_count": 10,
   "metadata": {},
   "outputs": [
    {
     "data": {
      "text/html": [
       "<div>\n",
       "<style scoped>\n",
       "    .dataframe tbody tr th:only-of-type {\n",
       "        vertical-align: middle;\n",
       "    }\n",
       "\n",
       "    .dataframe tbody tr th {\n",
       "        vertical-align: top;\n",
       "    }\n",
       "\n",
       "    .dataframe thead th {\n",
       "        text-align: right;\n",
       "    }\n",
       "</style>\n",
       "<table border=\"1\" class=\"dataframe\">\n",
       "  <thead>\n",
       "    <tr style=\"text-align: right;\">\n",
       "      <th></th>\n",
       "      <th>Comment</th>\n",
       "      <th>Date</th>\n",
       "    </tr>\n",
       "  </thead>\n",
       "  <tbody>\n",
       "    <tr>\n",
       "      <th>0</th>\n",
       "      <td>la tiro a caso, lui cerca di convincerla a tor...</td>\n",
       "      <td>2023-11-13</td>\n",
       "    </tr>\n",
       "    <tr>\n",
       "      <th>1</th>\n",
       "      <td>E' come leggere un libro appena iniziato conos...</td>\n",
       "      <td>2023-11-13</td>\n",
       "    </tr>\n",
       "    <tr>\n",
       "      <th>2</th>\n",
       "      <td>Un amore tagliato a fette</td>\n",
       "      <td>2023-11-13</td>\n",
       "    </tr>\n",
       "    <tr>\n",
       "      <th>3</th>\n",
       "      <td>Ahia</td>\n",
       "      <td>2023-11-13</td>\n",
       "    </tr>\n",
       "    <tr>\n",
       "      <th>4</th>\n",
       "      <td>Donne, stiamo tutte pensando la stessa cosa, v...</td>\n",
       "      <td>2023-11-13</td>\n",
       "    </tr>\n",
       "    <tr>\n",
       "      <th>...</th>\n",
       "      <td>...</td>\n",
       "      <td>...</td>\n",
       "    </tr>\n",
       "    <tr>\n",
       "      <th>1014</th>\n",
       "      <td>Che schifo…. “intervista”</td>\n",
       "      <td>2023-12-04</td>\n",
       "    </tr>\n",
       "    <tr>\n",
       "      <th>1015</th>\n",
       "      <td>Vannacci AI :risolve i tuoi problemi dando sol...</td>\n",
       "      <td>2023-12-04</td>\n",
       "    </tr>\n",
       "    <tr>\n",
       "      <th>1016</th>\n",
       "      <td>non ho capito quali sarebbero le cose sbagliat...</td>\n",
       "      <td>2023-12-04</td>\n",
       "    </tr>\n",
       "    <tr>\n",
       "      <th>1017</th>\n",
       "      <td>Si vede che è integrale, mi ha mandato subito ...</td>\n",
       "      <td>2023-12-04</td>\n",
       "    </tr>\n",
       "    <tr>\n",
       "      <th>1018</th>\n",
       "      <td>![gif](giphy|DPqqOywshrOqQ|downsized)</td>\n",
       "      <td>2023-12-04</td>\n",
       "    </tr>\n",
       "  </tbody>\n",
       "</table>\n",
       "<p>1019 rows × 2 columns</p>\n",
       "</div>"
      ],
      "text/plain": [
       "                                                Comment        Date\n",
       "0     la tiro a caso, lui cerca di convincerla a tor...  2023-11-13\n",
       "1     E' come leggere un libro appena iniziato conos...  2023-11-13\n",
       "2                             Un amore tagliato a fette  2023-11-13\n",
       "3                                                  Ahia  2023-11-13\n",
       "4     Donne, stiamo tutte pensando la stessa cosa, v...  2023-11-13\n",
       "...                                                 ...         ...\n",
       "1014                          Che schifo…. “intervista”  2023-12-04\n",
       "1015  Vannacci AI :risolve i tuoi problemi dando sol...  2023-12-04\n",
       "1016  non ho capito quali sarebbero le cose sbagliat...  2023-12-04\n",
       "1017  Si vede che è integrale, mi ha mandato subito ...  2023-12-04\n",
       "1018              ![gif](giphy|DPqqOywshrOqQ|downsized)  2023-12-04\n",
       "\n",
       "[1019 rows x 2 columns]"
      ]
     },
     "execution_count": 10,
     "metadata": {},
     "output_type": "execute_result"
    }
   ],
   "source": [
    "df"
   ]
  },
  {
   "cell_type": "code",
   "execution_count": 11,
   "metadata": {},
   "outputs": [
    {
     "name": "stderr",
     "output_type": "stream",
     "text": [
      "[nltk_data] Downloading package stopwords to\n",
      "[nltk_data]     C:\\Users\\demai\\AppData\\Roaming\\nltk_data...\n",
      "[nltk_data]   Package stopwords is already up-to-date!\n"
     ]
    }
   ],
   "source": [
    "nltk.download('stopwords')\n",
    "stop_words = set(stopwords.words('italian'))\n",
    "\n",
    "def remove_stopwords(comment):\n",
    "    tokens = [word.lower() for word in comment.split() if word.lower() not in stop_words]\n",
    "    filtered_text = ' '.join(tokens)\n",
    "    return filtered_text"
   ]
  },
  {
   "cell_type": "code",
   "execution_count": 12,
   "metadata": {},
   "outputs": [],
   "source": [
    "for i in range(len(df)):\n",
    "    df['Comment'][i] = remove_stopwords(df['Comment'][i])"
   ]
  },
  {
   "cell_type": "code",
   "execution_count": 13,
   "metadata": {},
   "outputs": [
    {
     "data": {
      "text/html": [
       "<div>\n",
       "<style scoped>\n",
       "    .dataframe tbody tr th:only-of-type {\n",
       "        vertical-align: middle;\n",
       "    }\n",
       "\n",
       "    .dataframe tbody tr th {\n",
       "        vertical-align: top;\n",
       "    }\n",
       "\n",
       "    .dataframe thead th {\n",
       "        text-align: right;\n",
       "    }\n",
       "</style>\n",
       "<table border=\"1\" class=\"dataframe\">\n",
       "  <thead>\n",
       "    <tr style=\"text-align: right;\">\n",
       "      <th></th>\n",
       "      <th>Comment</th>\n",
       "      <th>Date</th>\n",
       "    </tr>\n",
       "  </thead>\n",
       "  <tbody>\n",
       "    <tr>\n",
       "      <th>0</th>\n",
       "      <td>tiro caso, cerca convincerla tornare insieme, ...</td>\n",
       "      <td>2023-11-13</td>\n",
       "    </tr>\n",
       "    <tr>\n",
       "      <th>1</th>\n",
       "      <td>e' leggere libro appena iniziato conoscendo gi...</td>\n",
       "      <td>2023-11-13</td>\n",
       "    </tr>\n",
       "    <tr>\n",
       "      <th>2</th>\n",
       "      <td>amore tagliato fette</td>\n",
       "      <td>2023-11-13</td>\n",
       "    </tr>\n",
       "    <tr>\n",
       "      <th>3</th>\n",
       "      <td>ahia</td>\n",
       "      <td>2023-11-13</td>\n",
       "    </tr>\n",
       "    <tr>\n",
       "      <th>4</th>\n",
       "      <td>donne, tutte pensando stessa cosa, vero? magon...</td>\n",
       "      <td>2023-11-13</td>\n",
       "    </tr>\n",
       "    <tr>\n",
       "      <th>...</th>\n",
       "      <td>...</td>\n",
       "      <td>...</td>\n",
       "    </tr>\n",
       "    <tr>\n",
       "      <th>1014</th>\n",
       "      <td>schifo…. “intervista”</td>\n",
       "      <td>2023-12-04</td>\n",
       "    </tr>\n",
       "    <tr>\n",
       "      <th>1015</th>\n",
       "      <td>vannacci :risolve problemi dando soluzioni for...</td>\n",
       "      <td>2023-12-04</td>\n",
       "    </tr>\n",
       "    <tr>\n",
       "      <th>1016</th>\n",
       "      <td>capito quali cose sbagliate dice intervista</td>\n",
       "      <td>2023-12-04</td>\n",
       "    </tr>\n",
       "    <tr>\n",
       "      <th>1017</th>\n",
       "      <td>vede integrale, mandato subito bagno cagare in...</td>\n",
       "      <td>2023-12-04</td>\n",
       "    </tr>\n",
       "    <tr>\n",
       "      <th>1018</th>\n",
       "      <td>![gif](giphy|dpqqoywshroqq|downsized)</td>\n",
       "      <td>2023-12-04</td>\n",
       "    </tr>\n",
       "  </tbody>\n",
       "</table>\n",
       "<p>1019 rows × 2 columns</p>\n",
       "</div>"
      ],
      "text/plain": [
       "                                                Comment        Date\n",
       "0     tiro caso, cerca convincerla tornare insieme, ...  2023-11-13\n",
       "1     e' leggere libro appena iniziato conoscendo gi...  2023-11-13\n",
       "2                                  amore tagliato fette  2023-11-13\n",
       "3                                                  ahia  2023-11-13\n",
       "4     donne, tutte pensando stessa cosa, vero? magon...  2023-11-13\n",
       "...                                                 ...         ...\n",
       "1014                              schifo…. “intervista”  2023-12-04\n",
       "1015  vannacci :risolve problemi dando soluzioni for...  2023-12-04\n",
       "1016        capito quali cose sbagliate dice intervista  2023-12-04\n",
       "1017  vede integrale, mandato subito bagno cagare in...  2023-12-04\n",
       "1018              ![gif](giphy|dpqqoywshroqq|downsized)  2023-12-04\n",
       "\n",
       "[1019 rows x 2 columns]"
      ]
     },
     "execution_count": 13,
     "metadata": {},
     "output_type": "execute_result"
    }
   ],
   "source": [
    "df"
   ]
  },
  {
   "cell_type": "code",
   "execution_count": 19,
   "metadata": {},
   "outputs": [],
   "source": [
    "list_comments = df['Comment'].to_list()"
   ]
  },
  {
   "cell_type": "code",
   "execution_count": 20,
   "metadata": {},
   "outputs": [
    {
     "data": {
      "text/plain": [
       "list"
      ]
     },
     "execution_count": 20,
     "metadata": {},
     "output_type": "execute_result"
    }
   ],
   "source": [
    "type(list_comments)"
   ]
  },
  {
   "cell_type": "code",
   "execution_count": null,
   "metadata": {},
   "outputs": [],
   "source": [
    "emotion_classifier = EmotionClassifier()"
   ]
  },
  {
   "cell_type": "code",
   "execution_count": 21,
   "metadata": {},
   "outputs": [],
   "source": [
    "label_output = emotion_classifier.predict(list_comments)"
   ]
  },
  {
   "cell_type": "code",
   "execution_count": 22,
   "metadata": {},
   "outputs": [
    {
     "name": "stdout",
     "output_type": "stream",
     "text": [
      "['anger', 'joy', 'anger', 'sadness', 'sadness', 'fear', 'fear', 'fear', 'fear', 'fear', 'anger', 'sadness', 'sadness', 'sadness', 'anger', 'anger', 'anger', 'sadness', 'fear', 'sadness', 'sadness', 'fear', 'sadness', 'anger', 'anger', 'anger', 'joy', 'sadness', 'sadness', 'anger', 'sadness', 'sadness', 'anger', 'anger', 'anger', 'anger', 'anger', 'anger', 'anger', 'joy', 'anger', 'joy', 'anger', 'sadness', 'anger', 'anger', 'joy', 'anger', 'fear', 'anger', 'anger', 'fear', 'anger', 'sadness', 'anger', 'anger', 'anger', 'anger', 'anger', 'sadness', 'fear', 'anger', 'anger', 'anger', 'anger', 'anger', 'anger', 'fear', 'sadness', 'anger', 'anger', 'anger', 'anger', 'sadness', 'anger', 'anger', 'anger', 'joy', 'anger', 'anger', 'anger', 'anger', 'anger', 'fear', 'anger', 'anger', 'anger', 'anger', 'sadness', 'anger', 'anger', 'anger', 'anger', 'fear', 'anger', 'anger', 'joy', 'anger', 'anger', 'anger', 'fear', 'anger', 'sadness', 'anger', 'fear', 'anger', 'anger', 'anger', 'anger', 'sadness', 'sadness', 'fear', 'fear', 'anger', 'anger', 'anger', 'joy', 'sadness', 'anger', 'anger', 'sadness', 'anger', 'anger', 'sadness', 'anger', 'anger', 'anger', 'anger', 'sadness', 'anger', 'anger', 'sadness', 'sadness', 'anger', 'anger', 'anger', 'anger', 'anger', 'anger', 'anger', 'fear', 'anger', 'fear', 'anger', 'anger', 'anger', 'fear', 'anger', 'anger', 'anger', 'anger', 'anger', 'sadness', 'anger', 'anger', 'fear', 'joy', 'anger', 'anger', 'anger', 'fear', 'anger', 'anger', 'anger', 'joy', 'sadness', 'anger', 'fear', 'anger', 'fear', 'joy', 'anger', 'anger', 'anger', 'anger', 'anger', 'anger', 'joy', 'anger', 'anger', 'joy', 'joy', 'anger', 'anger', 'joy', 'anger', 'fear', 'anger', 'fear', 'anger', 'anger', 'anger', 'anger', 'anger', 'anger', 'anger', 'sadness', 'anger', 'fear', 'fear', 'anger', 'joy', 'anger', 'anger', 'anger', 'anger', 'sadness', 'fear', 'joy', 'anger', 'sadness', 'anger', 'anger', 'anger', 'anger', 'joy', 'fear', 'anger', 'anger', 'fear', 'sadness', 'joy', 'anger', 'anger', 'sadness', 'anger', 'fear', 'anger', 'fear', 'fear', 'sadness', 'anger', 'fear', 'anger', 'anger', 'fear', 'anger', 'fear', 'anger', 'anger', 'joy', 'anger', 'fear', 'anger', 'anger', 'anger', 'anger', 'joy', 'fear', 'fear', 'joy', 'anger', 'anger', 'joy', 'anger', 'anger', 'joy', 'anger', 'sadness', 'sadness', 'anger', 'sadness', 'anger', 'fear', 'joy', 'anger', 'anger', 'anger', 'anger', 'fear', 'anger', 'anger', 'anger', 'sadness', 'joy', 'anger', 'anger', 'anger', 'joy', 'anger', 'anger', 'anger', 'anger', 'fear', 'sadness', 'anger', 'anger', 'anger', 'anger', 'anger', 'anger', 'sadness', 'anger', 'fear', 'anger', 'anger', 'anger', 'anger', 'fear', 'fear', 'anger', 'sadness', 'anger', 'fear', 'anger', 'anger', 'anger', 'anger', 'anger', 'anger', 'sadness', 'anger', 'anger', 'anger', 'fear', 'sadness', 'anger', 'anger', 'anger', 'anger', 'anger', 'joy', 'anger', 'anger', 'anger', 'anger', 'anger', 'sadness', 'joy', 'anger', 'anger', 'anger', 'anger', 'fear', 'anger', 'anger', 'anger', 'fear', 'sadness', 'anger', 'anger', 'anger', 'anger', 'anger', 'fear', 'anger', 'anger', 'anger', 'fear', 'anger', 'anger', 'anger', 'anger', 'sadness', 'sadness', 'anger', 'anger', 'anger', 'sadness', 'anger', 'anger', 'joy', 'anger', 'anger', 'fear', 'anger', 'anger', 'anger', 'anger', 'anger', 'joy', 'anger', 'anger', 'anger', 'joy', 'sadness', 'anger', 'anger', 'anger', 'anger', 'anger', 'joy', 'anger', 'joy', 'anger', 'sadness', 'anger', 'fear', 'sadness', 'anger', 'anger', 'fear', 'anger', 'anger', 'anger', 'anger', 'anger', 'sadness', 'anger', 'anger', 'anger', 'anger', 'anger', 'sadness', 'joy', 'anger', 'anger', 'anger', 'anger', 'anger', 'sadness', 'anger', 'anger', 'anger', 'anger', 'sadness', 'anger', 'anger', 'anger', 'sadness', 'joy', 'anger', 'fear', 'anger', 'fear', 'fear', 'anger', 'anger', 'sadness', 'anger', 'anger', 'anger', 'anger', 'anger', 'anger', 'anger', 'anger', 'anger', 'anger', 'fear', 'anger', 'anger', 'sadness', 'anger', 'anger', 'anger', 'anger', 'joy', 'anger', 'anger', 'anger', 'anger', 'anger', 'sadness', 'anger', 'anger', 'fear', 'anger', 'anger', 'anger', 'anger', 'joy', 'anger', 'fear', 'anger', 'anger', 'anger', 'anger', 'anger', 'anger', 'anger', 'fear', 'joy', 'sadness', 'joy', 'anger', 'anger', 'anger', 'anger', 'anger', 'anger', 'anger', 'anger', 'anger', 'anger', 'sadness', 'anger', 'anger', 'anger', 'sadness', 'anger', 'fear', 'joy', 'anger', 'anger', 'fear', 'anger', 'anger', 'anger', 'sadness', 'joy', 'anger', 'fear', 'anger', 'sadness', 'anger', 'fear', 'anger', 'anger', 'anger', 'joy', 'anger', 'fear', 'anger', 'anger', 'anger', 'sadness', 'anger', 'anger', 'anger', 'fear', 'fear', 'joy', 'fear', 'sadness', 'anger', 'anger', 'anger', 'fear', 'anger', 'anger', 'joy', 'anger', 'anger', 'joy', 'anger', 'anger', 'sadness', 'sadness', 'anger', 'sadness', 'anger', 'joy', 'anger', 'anger', 'anger', 'anger', 'sadness', 'anger', 'joy', 'sadness', 'anger', 'anger', 'sadness', 'anger', 'anger', 'anger', 'anger', 'anger', 'anger', 'anger', 'anger', 'anger', 'anger', 'anger', 'fear', 'anger', 'anger', 'sadness', 'joy', 'anger', 'anger', 'anger', 'joy', 'sadness', 'anger', 'joy', 'anger', 'sadness', 'anger', 'anger', 'anger', 'sadness', 'anger', 'fear', 'anger', 'sadness', 'anger', 'joy', 'joy', 'anger', 'anger', 'anger', 'anger', 'anger', 'joy', 'joy', 'joy', 'joy', 'sadness', 'anger', 'joy', 'anger', 'anger', 'fear', 'joy', 'sadness', 'anger', 'anger', 'fear', 'sadness', 'anger', 'sadness', 'joy', 'joy', 'anger', 'anger', 'anger', 'anger', 'anger', 'fear', 'anger', 'anger', 'anger', 'joy', 'sadness', 'anger', 'anger', 'anger', 'fear', 'anger', 'anger', 'anger', 'joy', 'fear', 'sadness', 'joy', 'anger', 'sadness', 'sadness', 'joy', 'anger', 'anger', 'joy', 'sadness', 'joy', 'anger', 'anger', 'joy', 'fear', 'fear', 'anger', 'anger', 'joy', 'anger', 'anger', 'joy', 'joy', 'fear', 'joy', 'sadness', 'anger', 'anger', 'anger', 'joy', 'joy', 'joy', 'joy', 'joy', 'sadness', 'anger', 'anger', 'sadness', 'joy', 'anger', 'anger', 'anger', 'sadness', 'sadness', 'joy', 'fear', 'sadness', 'anger', 'fear', 'anger', 'joy', 'joy', 'anger', 'sadness', 'anger', 'anger', 'sadness', 'joy', 'joy', 'anger', 'joy', 'anger', 'anger', 'joy', 'anger', 'joy', 'anger', 'joy', 'anger', 'joy', 'fear', 'joy', 'joy', 'anger', 'sadness', 'anger', 'sadness', 'joy', 'anger', 'anger', 'sadness', 'anger', 'joy', 'anger', 'anger', 'anger', 'anger', 'anger', 'anger', 'anger', 'joy', 'joy', 'sadness', 'anger', 'anger', 'anger', 'anger', 'anger', 'anger', 'joy', 'fear', 'anger', 'anger', 'fear', 'joy', 'sadness', 'anger', 'anger', 'anger', 'joy', 'sadness', 'anger', 'anger', 'anger', 'joy', 'anger', 'anger', 'anger', 'anger', 'joy', 'anger', 'fear', 'anger', 'anger', 'anger', 'anger', 'fear', 'joy', 'anger', 'anger', 'anger', 'anger', 'anger', 'anger', 'joy', 'anger', 'anger', 'anger', 'anger', 'anger', 'anger', 'sadness', 'sadness', 'joy', 'sadness', 'joy', 'anger', 'anger', 'joy', 'anger', 'joy', 'anger', 'anger', 'anger', 'fear', 'sadness', 'fear', 'anger', 'anger', 'anger', 'anger', 'joy', 'anger', 'anger', 'anger', 'anger', 'fear', 'anger', 'sadness', 'anger', 'anger', 'fear', 'sadness', 'anger', 'anger', 'anger', 'anger', 'anger', 'anger', 'fear', 'anger', 'fear', 'fear', 'anger', 'anger', 'anger', 'anger', 'anger', 'anger', 'anger', 'anger', 'anger', 'anger', 'anger', 'anger', 'anger', 'anger', 'anger', 'anger', 'fear', 'anger', 'anger', 'anger', 'anger', 'anger', 'anger', 'anger', 'anger', 'anger', 'anger', 'sadness', 'anger', 'anger', 'anger', 'anger', 'anger', 'sadness', 'anger', 'anger', 'sadness', 'anger', 'anger', 'anger', 'anger', 'anger', 'anger', 'anger', 'anger', 'sadness', 'anger', 'anger', 'anger', 'anger', 'anger', 'anger', 'fear', 'anger', 'anger', 'anger', 'anger', 'anger', 'anger', 'anger', 'anger', 'anger', 'anger', 'anger', 'fear', 'anger', 'anger', 'anger', 'anger', 'anger', 'anger', 'fear', 'anger', 'sadness', 'joy', 'anger', 'anger', 'anger', 'anger', 'anger', 'anger', 'anger', 'anger', 'anger', 'joy', 'anger', 'sadness', 'joy', 'sadness', 'anger', 'anger', 'sadness', 'anger', 'anger', 'anger', 'sadness', 'joy', 'anger', 'anger', 'anger', 'sadness', 'sadness', 'anger', 'anger', 'anger', 'anger', 'anger', 'anger', 'anger', 'anger', 'anger', 'joy', 'anger', 'anger', 'anger', 'sadness', 'anger', 'joy', 'sadness', 'sadness', 'sadness', 'anger', 'anger', 'joy', 'anger', 'anger', 'anger', 'anger', 'sadness', 'anger', 'sadness', 'anger', 'sadness', 'anger', 'anger', 'anger', 'anger', 'sadness', 'sadness', 'anger', 'anger', 'anger', 'anger', 'anger', 'joy', 'anger', 'anger', 'anger', 'anger', 'anger', 'anger', 'anger', 'anger', 'anger', 'anger', 'anger', 'anger', 'anger', 'joy', 'anger', 'anger', 'anger', 'joy', 'joy', 'anger', 'anger', 'anger', 'anger', 'anger', 'anger', 'anger', 'anger', 'anger', 'anger', 'sadness', 'fear', 'sadness', 'anger', 'anger', 'fear', 'sadness', 'sadness', 'joy', 'anger', 'anger', 'anger', 'anger', 'joy', 'joy', 'anger', 'anger', 'anger', 'anger', 'joy', 'joy', 'anger', 'joy', 'anger', 'anger', 'anger', 'joy']\n"
     ]
    }
   ],
   "source": [
    "print(label_output)"
   ]
  },
  {
   "cell_type": "code",
   "execution_count": 35,
   "metadata": {},
   "outputs": [],
   "source": [
    "d = {'Emotion': label_output}\n",
    "label = pd.DataFrame(d)"
   ]
  },
  {
   "cell_type": "code",
   "execution_count": 36,
   "metadata": {},
   "outputs": [],
   "source": [
    "df_final = df.join(label)"
   ]
  },
  {
   "cell_type": "code",
   "execution_count": 45,
   "metadata": {},
   "outputs": [],
   "source": [
    "df_final.to_csv(\"Results.csv\", index=False)"
   ]
  }
 ],
 "metadata": {
  "kernelspec": {
   "display_name": "Python 3",
   "language": "python",
   "name": "python3"
  },
  "language_info": {
   "codemirror_mode": {
    "name": "ipython",
    "version": 3
   },
   "file_extension": ".py",
   "mimetype": "text/x-python",
   "name": "python",
   "nbconvert_exporter": "python",
   "pygments_lexer": "ipython3",
   "version": "3.10.11"
  }
 },
 "nbformat": 4,
 "nbformat_minor": 2
}
