{
 "cells": [
  {
   "cell_type": "markdown",
   "metadata": {},
   "source": [
    "# Data Loader"
   ]
  },
  {
   "cell_type": "markdown",
   "metadata": {},
   "source": [
    "#### **Setup di PRAW, Datetime e Pandas**: In questa cella, vengono importate le librerie necessarie (PRAW per l'accesso a Reddit, datetime per la gestione delle date e Pandas per la manipolazione dei dati tabellari)."
   ]
  },
  {
   "cell_type": "code",
   "execution_count": 232,
   "metadata": {},
   "outputs": [],
   "source": [
    "import praw\n",
    "from datetime import datetime\n",
    "import pandas as pd"
   ]
  },
  {
   "cell_type": "markdown",
   "metadata": {},
   "source": [
    "#### Configurazione dell'istanza di reddit"
   ]
  },
  {
   "cell_type": "code",
   "execution_count": 233,
   "metadata": {},
   "outputs": [],
   "source": [
    "reddit = praw.Reddit(\n",
    "    client_id=\"#\",\n",
    "    client_secret=\"#\",\n",
    "    #password=\"PASSWORD\",\n",
    "    user_agent=\"#\",\n",
    "    #username=\"USERNAME\",\n",
    ")\n"
   ]
  },
  {
   "cell_type": "markdown",
   "metadata": {},
   "source": [
    "#### **Configurazione del Subreddit e Recupero dei Top Posts**: In questa cella, viene specificato il subreddit da cui vogliamo recuperare i post (\"Italia\"), quindi viene eseguita una ricerca per i post contenenti \"giulia cecchettin\", ordinati per popolarità (top) e considerando tutti i tempi (time_filter='all'). I risultati selezionati sono 20 post."
   ]
  },
  {
   "cell_type": "code",
   "execution_count": 234,
   "metadata": {},
   "outputs": [],
   "source": [
    "subreddit = reddit.subreddit(\"Italia\")\n",
    "top_posts_giulia_cecchettin = subreddit.search('giulia cecchettin', sort='top', time_filter='all',limit=20)\n",
    "top_posts_giulia_tramontano = subreddit.search('impagnatiello', sort='top', time_filter='all',limit=20)"
   ]
  },
  {
   "cell_type": "markdown",
   "metadata": {},
   "source": [
    "#### **Inizializzazione del DataFrame**: Creazione di un DataFrame vuoto con Pandas utilizzato per immagazzinare i commenti estratti."
   ]
  },
  {
   "cell_type": "code",
   "execution_count": 235,
   "metadata": {},
   "outputs": [],
   "source": [
    "df_cecchettin = pd.DataFrame()\n",
    "df_tramontano = pd.DataFrame()"
   ]
  },
  {
   "cell_type": "markdown",
   "metadata": {},
   "source": [
    "#### **Funzione di Conversione della Data**: Definizione di una funzione `converti` che converte l'epoch timestamp in un formato di data leggibile."
   ]
  },
  {
   "cell_type": "code",
   "execution_count": 236,
   "metadata": {},
   "outputs": [],
   "source": [
    "def converti(data):\n",
    "    data_leggibile = datetime.utcfromtimestamp(data).strftime('%Y-%m-%d')\n",
    "    #print(data_leggibile)\n",
    "    return data_leggibile"
   ]
  },
  {
   "cell_type": "markdown",
   "metadata": {},
   "source": [
    "#### **Estrazione dei Commenti e Aggiunta al DataFrame**: Attraverso un ciclo `for` si itera sui post principali e i relativi commenti. Viene estratto il testo del commento e la data di creazione, per poi essere aggiunta al DataFrame."
   ]
  },
  {
   "cell_type": "markdown",
   "metadata": {},
   "source": [
    "##### Giulia Cecchettin"
   ]
  },
  {
   "cell_type": "code",
   "execution_count": 237,
   "metadata": {},
   "outputs": [],
   "source": [
    "df_cecchettin = pd.DataFrame(columns=['Comment', 'Date'])\n",
    "\n",
    "def process_comment(comment):\n",
    "    try:\n",
    "        print(comment.body)\n",
    "        df_cecchettin.loc[len(df_cecchettin)] = [comment.body, converti(comment.created_utc)]\n",
    "    except:\n",
    "        pass\n",
    "    \n",
    "    try:\n",
    "        list_replies = comment.replies.list()\n",
    "        for reply_comment in list_replies:\n",
    "            process_comment(reply_comment)\n",
    "    except:\n",
    "        pass\n",
    "\n",
    "for post in top_posts_giulia_cecchettin:\n",
    "    print(\"Title: \", post.title)\n",
    "    for comment in post.comments:\n",
    "        process_comment(comment)\n",
    "    print(\"-----------------------------------------\")\n"
   ]
  },
  {
   "cell_type": "markdown",
   "metadata": {},
   "source": [
    "##### Giulia Tramontano"
   ]
  },
  {
   "cell_type": "code",
   "execution_count": 238,
   "metadata": {},
   "outputs": [],
   "source": [
    "df_tramontano = pd.DataFrame(columns=['Comment', 'Date'])\n",
    "\n",
    "def process_comment(comment):\n",
    "    try:\n",
    "        print(comment.body)\n",
    "        df_tramontano.loc[len(df_tramontano)] = [comment.body, converti(comment.created_utc)]\n",
    "    except:\n",
    "        pass\n",
    "    \n",
    "    try:\n",
    "        list_replies = comment.replies.list()\n",
    "        for reply_comment in list_replies:\n",
    "            process_comment(reply_comment)\n",
    "    except:\n",
    "        pass\n",
    "\n",
    "for post in top_posts_giulia_tramontano:\n",
    "    print(\"Title: \", post.title)\n",
    "    for comment in post.comments:\n",
    "        process_comment(comment)\n",
    "    print(\"-----------------------------------------\")\n"
   ]
  },
  {
   "cell_type": "markdown",
   "metadata": {},
   "source": [
    "#### Pre-processing dei dati prima di effettuare il salvataggio."
   ]
  },
  {
   "cell_type": "markdown",
   "metadata": {},
   "source": [
    "##### Giulia Cecchettin"
   ]
  },
  {
   "cell_type": "code",
   "execution_count": null,
   "metadata": {},
   "outputs": [],
   "source": [
    "i = 31\n",
    "while(i != 4):\n",
    "    date = \"2023-12-\" + str(i)\n",
    "    df_cecchettin.drop(df_cecchettin[df_cecchettin['Date'] == date].index, inplace=True)\n",
    "    i -= 1\n",
    "\n",
    "i = 31\n",
    "while(i != 0):\n",
    "    date = \"2024-01-\" + str(i)\n",
    "    df_cecchettin.drop(df_cecchettin[df_cecchettin['Date'] == date].index, inplace=True)\n",
    "    i -= 1\n",
    "\n",
    "df_cecchettin.sort_values(by='Date', inplace=True)\n",
    "df_cecchettin = df_cecchettin.loc[~df_cecchettin['Comment'].str.contains(r'\\[removed\\]|\\[deleted\\]')]\n",
    "df_cecchettin.drop_duplicates(inplace=True)\n",
    "df_cecchettin.reset_index(drop=True, inplace=True)"
   ]
  },
  {
   "cell_type": "markdown",
   "metadata": {},
   "source": [
    "##### Giulia Tramontano"
   ]
  },
  {
   "cell_type": "code",
   "execution_count": null,
   "metadata": {},
   "outputs": [],
   "source": [
    "df_tramontano.sort_values(by='Date', inplace=True)\n",
    "df_tramontano = df_tramontano.loc[~df_tramontano['Comment'].str.contains(r'\\[removed\\]|\\[deleted\\]')]\n",
    "df_tramontano.drop_duplicates(inplace=True)\n",
    "df_tramontano.reset_index(drop=True, inplace=True)"
   ]
  },
  {
   "cell_type": "markdown",
   "metadata": {},
   "source": [
    "#### **Salvataggio del DataFrame in un File CSV**: Si converte il DataFrame in un file CSV."
   ]
  },
  {
   "cell_type": "markdown",
   "metadata": {},
   "source": [
    "##### Giulia Cecchettin"
   ]
  },
  {
   "cell_type": "code",
   "execution_count": 239,
   "metadata": {},
   "outputs": [],
   "source": [
    "df_cecchettin.to_csv(\"../dataset_input/Giulia_cecchettin.csv\", index=False)\n"
   ]
  },
  {
   "cell_type": "code",
   "execution_count": 240,
   "metadata": {},
   "outputs": [],
   "source": [
    "pd.read_csv('../dataset_input/Giulia_cecchettin.csv')"
   ]
  },
  {
   "cell_type": "markdown",
   "metadata": {},
   "source": [
    "##### Giulia Tramontano"
   ]
  },
  {
   "cell_type": "code",
   "execution_count": 241,
   "metadata": {},
   "outputs": [],
   "source": [
    "df_tramontano.to_csv(\"../dataset_input/Giulia_Tramontano\", index=False)\n"
   ]
  },
  {
   "cell_type": "code",
   "execution_count": 242,
   "metadata": {},
   "outputs": [],
   "source": [
    "pd.read_csv('../dataset_input/Giulia_Tramontano.csv')"
   ]
  }
 ],
 "metadata": {
  "kernelspec": {
   "display_name": "Python 3",
   "language": "python",
   "name": "python3"
  },
  "language_info": {
   "codemirror_mode": {
    "name": "ipython",
    "version": 3
   },
   "file_extension": ".py",
   "mimetype": "text/x-python",
   "name": "python",
   "nbconvert_exporter": "python",
   "pygments_lexer": "ipython3",
   "version": "3.10.11"
  }
 },
 "nbformat": 4,
 "nbformat_minor": 2
}
