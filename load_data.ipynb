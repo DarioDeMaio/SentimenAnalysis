{
 "cells": [
  {
   "cell_type": "markdown",
   "metadata": {},
   "source": [
    "# Data Loader"
   ]
  },
  {
   "cell_type": "markdown",
   "metadata": {},
   "source": [
    "#### **Setup di PRAW e Pandas**: In questa cella, vengono importate le librerie necessarie (PRAW per l'accesso a Reddit, datetime per la gestione delle date e Pandas per la manipolazione dei dati tabellari)."
   ]
  },
  {
   "cell_type": "code",
   "execution_count": 87,
   "metadata": {},
   "outputs": [],
   "source": [
    "import praw\n",
    "from datetime import datetime\n",
    "import pandas as pd"
   ]
  },
  {
   "cell_type": "markdown",
   "metadata": {},
   "source": [
    "#### Configurazione dell'istanza di reddit"
   ]
  },
  {
   "cell_type": "code",
   "execution_count": 88,
   "metadata": {},
   "outputs": [],
   "source": [
    "reddit = praw.Reddit(\n",
    "    client_id=\"q15l_hP1Dx7AaqtRpDpGdA\",\n",
    "    client_secret=\"9o7w-5bhjbMa6ZkRKtUKEfDVsPandA\",\n",
    "    #password=\"PASSWORD\",\n",
    "    user_agent=\"prova app\",\n",
    "    #username=\"USERNAME\",\n",
    ")\n"
   ]
  },
  {
   "cell_type": "markdown",
   "metadata": {},
   "source": [
    "#### **Configurazione del Subreddit e Recupero dei Top Posts**: In questa cella, viene specificato il subreddit da cui vogliamo recuperare i post (\"Italia\"), quindi viene eseguita una ricerca per i post contenenti \"giulia cecchettin\", ordinati per popolarità (top) e considerando tutti i tempi (time_filter='all'). I risultati selezionati sono 20 post."
   ]
  },
  {
   "cell_type": "code",
   "execution_count": 89,
   "metadata": {},
   "outputs": [],
   "source": [
    "subreddit = reddit.subreddit(\"Italia\")\n",
    "top_posts = subreddit.search('giulia cecchettin', sort='top', time_filter='all',limit=20)"
   ]
  },
  {
   "cell_type": "markdown",
   "metadata": {},
   "source": [
    "#### **Inizializzazione del DataFrame**: Creazione di un DataFrame vuoto con Pandas utilizzato per immagazzinare i commenti estratti."
   ]
  },
  {
   "cell_type": "code",
   "execution_count": 90,
   "metadata": {},
   "outputs": [],
   "source": [
    "df = pd.DataFrame()"
   ]
  },
  {
   "cell_type": "markdown",
   "metadata": {},
   "source": [
    "#### **Funzione di Conversione della Data**: Definizione di una funzione `converti` che converte l'epoch timestamp in un formato di data leggibile."
   ]
  },
  {
   "cell_type": "code",
   "execution_count": 91,
   "metadata": {},
   "outputs": [],
   "source": [
    "def converti(data):\n",
    "    data_leggibile = datetime.utcfromtimestamp(data).strftime('%Y-%m-%d')\n",
    "    #print(data_leggibile)\n",
    "    return data_leggibile"
   ]
  },
  {
   "cell_type": "markdown",
   "metadata": {},
   "source": [
    "#### **Estrazione dei Commenti e Aggiunta al DataFrame**: Attraverso un ciclo `for` si itera sui post principali e i relativi commenti. Viene estratto il testo del commento e la data di creazione, per poi essere aggiunta al DataFrame."
   ]
  },
  {
   "cell_type": "code",
   "execution_count": 92,
   "metadata": {},
   "outputs": [
    {
     "name": "stdout",
     "output_type": "stream",
     "text": [
      "Title:  Ho visto troppi post sulla Giulia Cecchettin\n",
      "EXcept\n",
      "-----------------------------------------\n",
      "Title:  L'Italia e gli omicidi, qualche dat\n",
      "-----------------------------------------\n",
      "Title:  È un covo di incel\n",
      "EXcept\n",
      "-----------------------------------------\n",
      "Title:  Uomini, non vi siete rotti le palle di tutti i post contro di voi?\n",
      "EXcept\n",
      "-----------------------------------------\n",
      "Title:  Filippo Turetta arrestato in Germania, il 22enne ha ucciso Giulia Cecchettin\n",
      "-----------------------------------------\n",
      "Title:  Non c'è nulla di male ad istigare all'odio verso tutti gli uomini\n",
      "-----------------------------------------\n",
      "Title:  “Gli uomini devono fare mea culpa, anche chi non ha mai fatto nulla […]”\n",
      "-----------------------------------------\n",
      "Title:  Accoltellata dal marito per aver difeso la memoria di Giulia, a voi i commenti\n",
      "-----------------------------------------\n",
      "Title:  Colpa del patriarcato o malattia mentale?\n",
      "-----------------------------------------\n",
      "Title:  Venezia, la 22enne Giulia Cecchettin e l'ex fidanzato Filippo Turetta scomparsi da sabato\n",
      "-----------------------------------------\n",
      "Title:  L'intervista integrale a Vannacci de La Stampa\n",
      "-----------------------------------------\n",
      "Title:  Femminicidio: Quando La Politica Non Sa TACERE [RANT]\n",
      "-----------------------------------------\n",
      "Title:  Patriarcato e la colpa che ricade sul genere maschile\n",
      "-----------------------------------------\n",
      "Title:  Cortei contro il femminicidio o semplicemente cortei di sinistra?\n",
      "-----------------------------------------\n",
      "Title:  Ritrovato il corpo di Giulia Cecchetti\n",
      "-----------------------------------------\n",
      "Title:  Portogruaro, offende Giulia Cecchettin e la moglie la difende: lui la prende a pugni e l'accoltella in casa davanti al figlio\n",
      "-----------------------------------------\n",
      "Title:  Avete mai avuto esperienza di o avuto voi comportamenti che all'epoca consideravate normali e adesso giudicate come maschilisti?\n",
      "-----------------------------------------\n"
     ]
    }
   ],
   "source": [
    "for post in top_posts:\n",
    "    print(\"Title: \", post.title)\n",
    "    for comment in post.comments:\n",
    "        #print(comment.body)\n",
    "        try:\n",
    "            tmp = pd.DataFrame({\n",
    "                'Comment' : [comment.body],\n",
    "                'Date' : [converti(comment.created_utc)]\n",
    "            })\n",
    "            df = pd.concat([df, tmp], ignore_index=True)\n",
    "        except:\n",
    "            print(\"EXcept\")\n",
    "        # print(comment.body)\n",
    "        # converti(comment.created_utc)\n",
    "        #print(len(df))\n",
    "    print(\"-----------------------------------------\")"
   ]
  },
  {
   "cell_type": "markdown",
   "metadata": {},
   "source": [
    "#### **Salvataggio del DataFrame in un File CSV**: Si converte il DataFrame in un file CSV chiamato \"Dati.csv\"."
   ]
  },
  {
   "cell_type": "code",
   "execution_count": 99,
   "metadata": {},
   "outputs": [],
   "source": [
    "df.to_csv(\"Dati.csv\", index=False)\n",
    "df = df.sort_values(by='Date')"
   ]
  },
  {
   "cell_type": "code",
   "execution_count": 100,
   "metadata": {},
   "outputs": [
    {
     "data": {
      "text/html": [
       "<div>\n",
       "<style scoped>\n",
       "    .dataframe tbody tr th:only-of-type {\n",
       "        vertical-align: middle;\n",
       "    }\n",
       "\n",
       "    .dataframe tbody tr th {\n",
       "        vertical-align: top;\n",
       "    }\n",
       "\n",
       "    .dataframe thead th {\n",
       "        text-align: right;\n",
       "    }\n",
       "</style>\n",
       "<table border=\"1\" class=\"dataframe\">\n",
       "  <thead>\n",
       "    <tr style=\"text-align: right;\">\n",
       "      <th></th>\n",
       "      <th>Comment</th>\n",
       "      <th>Date</th>\n",
       "    </tr>\n",
       "  </thead>\n",
       "  <tbody>\n",
       "    <tr>\n",
       "      <th>0</th>\n",
       "      <td>la tiro a caso, lui cerca di convincerla a tor...</td>\n",
       "      <td>2023-11-13</td>\n",
       "    </tr>\n",
       "    <tr>\n",
       "      <th>1</th>\n",
       "      <td>E' come leggere un libro appena iniziato conos...</td>\n",
       "      <td>2023-11-13</td>\n",
       "    </tr>\n",
       "    <tr>\n",
       "      <th>2</th>\n",
       "      <td>Un amore tagliato a fette</td>\n",
       "      <td>2023-11-13</td>\n",
       "    </tr>\n",
       "    <tr>\n",
       "      <th>3</th>\n",
       "      <td>Ahia</td>\n",
       "      <td>2023-11-13</td>\n",
       "    </tr>\n",
       "    <tr>\n",
       "      <th>4</th>\n",
       "      <td>Donne, stiamo tutte pensando la stessa cosa, v...</td>\n",
       "      <td>2023-11-13</td>\n",
       "    </tr>\n",
       "    <tr>\n",
       "      <th>...</th>\n",
       "      <td>...</td>\n",
       "      <td>...</td>\n",
       "    </tr>\n",
       "    <tr>\n",
       "      <th>1014</th>\n",
       "      <td>Che schifo…. “intervista”</td>\n",
       "      <td>2023-12-04</td>\n",
       "    </tr>\n",
       "    <tr>\n",
       "      <th>1015</th>\n",
       "      <td>Vannacci AI :risolve i tuoi problemi dando sol...</td>\n",
       "      <td>2023-12-04</td>\n",
       "    </tr>\n",
       "    <tr>\n",
       "      <th>1016</th>\n",
       "      <td>non ho capito quali sarebbero le cose sbagliat...</td>\n",
       "      <td>2023-12-04</td>\n",
       "    </tr>\n",
       "    <tr>\n",
       "      <th>1017</th>\n",
       "      <td>Si vede che è integrale, mi ha mandato subito ...</td>\n",
       "      <td>2023-12-04</td>\n",
       "    </tr>\n",
       "    <tr>\n",
       "      <th>1018</th>\n",
       "      <td>![gif](giphy|DPqqOywshrOqQ|downsized)</td>\n",
       "      <td>2023-12-04</td>\n",
       "    </tr>\n",
       "  </tbody>\n",
       "</table>\n",
       "<p>1019 rows × 2 columns</p>\n",
       "</div>"
      ],
      "text/plain": [
       "                                                Comment        Date\n",
       "0     la tiro a caso, lui cerca di convincerla a tor...  2023-11-13\n",
       "1     E' come leggere un libro appena iniziato conos...  2023-11-13\n",
       "2                             Un amore tagliato a fette  2023-11-13\n",
       "3                                                  Ahia  2023-11-13\n",
       "4     Donne, stiamo tutte pensando la stessa cosa, v...  2023-11-13\n",
       "...                                                 ...         ...\n",
       "1014                          Che schifo…. “intervista”  2023-12-04\n",
       "1015  Vannacci AI :risolve i tuoi problemi dando sol...  2023-12-04\n",
       "1016  non ho capito quali sarebbero le cose sbagliat...  2023-12-04\n",
       "1017  Si vede che è integrale, mi ha mandato subito ...  2023-12-04\n",
       "1018              ![gif](giphy|DPqqOywshrOqQ|downsized)  2023-12-04\n",
       "\n",
       "[1019 rows x 2 columns]"
      ]
     },
     "execution_count": 100,
     "metadata": {},
     "output_type": "execute_result"
    }
   ],
   "source": [
    "pd.read_csv('Dati.csv')"
   ]
  }
 ],
 "metadata": {
  "kernelspec": {
   "display_name": "Python 3",
   "language": "python",
   "name": "python3"
  },
  "language_info": {
   "codemirror_mode": {
    "name": "ipython",
    "version": 3
   },
   "file_extension": ".py",
   "mimetype": "text/x-python",
   "name": "python",
   "nbconvert_exporter": "python",
   "pygments_lexer": "ipython3",
   "version": "3.10.11"
  }
 },
 "nbformat": 4,
 "nbformat_minor": 2
}
