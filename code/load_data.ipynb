{
 "cells": [
  {
   "cell_type": "markdown",
   "metadata": {},
   "source": [
    "# Data Loader"
   ]
  },
  {
   "cell_type": "markdown",
   "metadata": {},
   "source": [
    "#### **Setup di PRAW, Datetime e Pandas**: In questa cella, vengono importate le librerie necessarie (PRAW per l'accesso a Reddit, datetime per la gestione delle date e Pandas per la manipolazione dei dati tabellari)."
   ]
  },
  {
   "cell_type": "code",
   "execution_count": 13,
   "metadata": {},
   "outputs": [],
   "source": [
    "import praw\n",
    "from datetime import datetime\n",
    "import pandas as pd"
   ]
  },
  {
   "cell_type": "markdown",
   "metadata": {},
   "source": [
    "#### Configurazione dell'istanza di reddit"
   ]
  },
  {
   "cell_type": "code",
   "execution_count": 14,
   "metadata": {},
   "outputs": [],
   "source": [
    "reddit = praw.Reddit(\n",
    "    client_id=\"#\",\n",
    "    client_secret=\"9o7w-#\",\n",
    "    #password=\"PASSWORD\",\n",
    "    user_agent=\"#\",\n",
    "    #username=\"USERNAME\",\n",
    ")\n"
   ]
  },
  {
   "cell_type": "markdown",
   "metadata": {},
   "source": [
    "#### **Configurazione del Subreddit e Recupero dei Top Posts**: In questa cella, viene specificato il subreddit da cui vogliamo recuperare i post (\"Italia\"), quindi viene eseguita una ricerca per i post contenenti \"giulia cecchettin\", ordinati per popolarità (top) e considerando tutti i tempi (time_filter='all'). I risultati selezionati sono 20 post."
   ]
  },
  {
   "cell_type": "code",
   "execution_count": 15,
   "metadata": {},
   "outputs": [],
   "source": [
    "subreddit = reddit.subreddit(\"Italia\")\n",
    "top_posts_giulia_cecchettin = subreddit.search('giulia cecchettin', sort='top', time_filter='all',limit=20)\n",
    "top_posts_giulia_tramontano = subreddit.search('impagnatiello', sort='top', time_filter='all',limit=20)"
   ]
  },
  {
   "cell_type": "markdown",
   "metadata": {},
   "source": [
    "#### **Inizializzazione del DataFrame**: Creazione di un DataFrame vuoto con Pandas utilizzato per immagazzinare i commenti estratti."
   ]
  },
  {
   "cell_type": "code",
   "execution_count": 16,
   "metadata": {},
   "outputs": [],
   "source": [
    "df_cecchettin = pd.DataFrame()\n",
    "df_tramontano = pd.DataFrame()"
   ]
  },
  {
   "cell_type": "markdown",
   "metadata": {},
   "source": [
    "#### **Funzione di Conversione della Data**: Definizione di una funzione `converti` che converte l'epoch timestamp in un formato di data leggibile."
   ]
  },
  {
   "cell_type": "code",
   "execution_count": 17,
   "metadata": {},
   "outputs": [],
   "source": [
    "def converti(data):\n",
    "    data_leggibile = datetime.utcfromtimestamp(data).strftime('%Y-%m-%d')\n",
    "    #print(data_leggibile)\n",
    "    return data_leggibile"
   ]
  },
  {
   "cell_type": "markdown",
   "metadata": {},
   "source": [
    "#### **Estrazione dei Commenti e Aggiunta al DataFrame**: Attraverso un ciclo `for` si itera sui post principali e i relativi commenti. Viene estratto il testo del commento e la data di creazione, per poi essere aggiunta al DataFrame."
   ]
  },
  {
   "cell_type": "markdown",
   "metadata": {},
   "source": [
    "##### Giulia Cecchettin"
   ]
  },
  {
   "cell_type": "code",
   "execution_count": 6,
   "metadata": {},
   "outputs": [
    {
     "name": "stdout",
     "output_type": "stream",
     "text": [
      "Title:  L'esasperante strumentalizzazione dei media mainstream di questa povera ragazza sta raggiungendo risvolti sempre più viscidi e inquietanti.\n",
      "-----------------------------------------\n",
      "Title:  Ho visto troppi post sulla Giulia Cecchettin\n"
     ]
    },
    {
     "name": "stdout",
     "output_type": "stream",
     "text": [
      "Except\n",
      "-----------------------------------------\n",
      "Title:  L'Italia e gli omicidi, qualche dat\n",
      "-----------------------------------------\n",
      "Title:  È un covo di incel\n",
      "Except\n",
      "-----------------------------------------\n",
      "Title:  Uomini, non vi siete rotti le palle di tutti i post contro di voi?\n",
      "Except\n",
      "-----------------------------------------\n",
      "Title:  Filippo Turetta arrestato in Germania, il 22enne ha ucciso Giulia Cecchettin\n",
      "-----------------------------------------\n",
      "Title:  Non c'è nulla di male ad istigare all'odio verso tutti gli uomini\n",
      "-----------------------------------------\n",
      "Title:  “Gli uomini devono fare mea culpa, anche chi non ha mai fatto nulla […]”\n",
      "-----------------------------------------\n",
      "Title:  Accoltellata dal marito per aver difeso la memoria di Giulia, a voi i commenti\n",
      "-----------------------------------------\n",
      "Title:  Colpa del patriarcato o malattia mentale?\n",
      "-----------------------------------------\n",
      "Title:  L'intervista integrale a Vannacci de La Stampa\n",
      "-----------------------------------------\n",
      "Title:  Venezia, la 22enne Giulia Cecchettin e l'ex fidanzato Filippo Turetta scomparsi da sabato\n",
      "-----------------------------------------\n",
      "Title:  Femminicidio: Quando La Politica Non Sa TACERE [RANT]\n",
      "-----------------------------------------\n",
      "Title:  Patriarcato e la colpa che ricade sul genere maschile\n",
      "-----------------------------------------\n",
      "Title:  Cortei contro il femminicidio o semplicemente cortei di sinistra?\n",
      "-----------------------------------------\n",
      "Title:  Ritrovato il corpo di Giulia Cecchetti\n",
      "-----------------------------------------\n",
      "Title:  Statua per Giulia Cecchettin\n",
      "-----------------------------------------\n",
      "Title:  Portogruaro, offende Giulia Cecchettin e la moglie la difende: lui la prende a pugni e l'accoltella in casa davanti al figlio\n",
      "-----------------------------------------\n",
      "Title:  Avete mai avuto esperienza di o avuto voi comportamenti che all'epoca consideravate normali e adesso giudicate come maschilisti?\n",
      "-----------------------------------------\n"
     ]
    }
   ],
   "source": [
    "for post in top_posts_giulia_cecchettin:\n",
    "    print(\"Title: \", post.title)\n",
    "    for comment in post.comments:\n",
    "        #print(comment.body)\n",
    "        try:\n",
    "            tmp = pd.DataFrame({\n",
    "                'Comment' : [comment.body],\n",
    "                'Date' : [converti(comment.created_utc)]\n",
    "            })\n",
    "            df_cecchettin = pd.concat([df_cecchettin, tmp], ignore_index=True)\n",
    "        except:\n",
    "            print(\"Except\")\n",
    "        # print(comment.body)\n",
    "        # converti(comment.created_utc)\n",
    "        #print(len(df))\n",
    "    print(\"-----------------------------------------\")"
   ]
  },
  {
   "cell_type": "markdown",
   "metadata": {},
   "source": [
    "##### Giulia Tramontano"
   ]
  },
  {
   "cell_type": "code",
   "execution_count": 18,
   "metadata": {},
   "outputs": [
    {
     "name": "stdout",
     "output_type": "stream",
     "text": [
      "Title:  Impagnatiello cercava online come uccidere Giulia Tramontano e il feto già lo scorso inverno: «Come avvelenare un feto». Nessuna crudeltà e premeditazione per il Gip.\n",
      "-----------------------------------------\n",
      "Title:  Alessandro Impagnatiello ha confessato l'omicidio della fidanzata Giulia Tramontano, la ragazza incinta dichiarata dispersa ieri\n",
      "-----------------------------------------\n"
     ]
    }
   ],
   "source": [
    "for post in top_posts_giulia_tramontano:\n",
    "    print(\"Title: \", post.title)\n",
    "    for comment in post.comments:\n",
    "        #print(comment.body)\n",
    "        try:\n",
    "            tmp = pd.DataFrame({\n",
    "                'Comment' : [comment.body],\n",
    "                'Date' : [converti(comment.created_utc)]\n",
    "            })\n",
    "            df_tramontano = pd.concat([df_tramontano, tmp], ignore_index=True)\n",
    "        except:\n",
    "            print(\"Except\")\n",
    "        # print(comment.body)\n",
    "        # converti(comment.created_utc)\n",
    "        #print(len(df))\n",
    "    print(\"-----------------------------------------\")"
   ]
  },
  {
   "cell_type": "markdown",
   "metadata": {},
   "source": [
    "#### **Salvataggio del DataFrame in un File CSV**: Si converte il DataFrame in un file CSV chiamato \"Dati.csv\"."
   ]
  },
  {
   "cell_type": "markdown",
   "metadata": {},
   "source": [
    "##### Giulia Cecchettin"
   ]
  },
  {
   "cell_type": "code",
   "execution_count": null,
   "metadata": {},
   "outputs": [],
   "source": [
    "i = 31\n",
    "while(i != 4):\n",
    "    if(i <= 9):\n",
    "        x = \"0\"+str(i)\n",
    "        date = \"2023-12-\" + str(x)\n",
    "    else:\n",
    "        date = \"2023-12-\" + str(i)\n",
    "    df_cecchettin.drop(df_cecchettin[df_cecchettin['Date'] == date].index, inplace=True)\n",
    "    i -= 1"
   ]
  },
  {
   "cell_type": "code",
   "execution_count": 8,
   "metadata": {},
   "outputs": [],
   "source": [
    "df_cecchettin.to_csv(\"../dataset_input/Giulia_cecchettin.csv\", index=False)\n",
    "df = df_cecchettin.sort_values(by='Date')"
   ]
  },
  {
   "cell_type": "code",
   "execution_count": 9,
   "metadata": {},
   "outputs": [
    {
     "data": {
      "text/html": [
       "<div>\n",
       "<style scoped>\n",
       "    .dataframe tbody tr th:only-of-type {\n",
       "        vertical-align: middle;\n",
       "    }\n",
       "\n",
       "    .dataframe tbody tr th {\n",
       "        vertical-align: top;\n",
       "    }\n",
       "\n",
       "    .dataframe thead th {\n",
       "        text-align: right;\n",
       "    }\n",
       "</style>\n",
       "<table border=\"1\" class=\"dataframe\">\n",
       "  <thead>\n",
       "    <tr style=\"text-align: right;\">\n",
       "      <th></th>\n",
       "      <th>Comment</th>\n",
       "      <th>Date</th>\n",
       "    </tr>\n",
       "  </thead>\n",
       "  <tbody>\n",
       "    <tr>\n",
       "      <th>0</th>\n",
       "      <td>Se posti uno screenshot di giornale metti anch...</td>\n",
       "      <td>2023-12-09</td>\n",
       "    </tr>\n",
       "    <tr>\n",
       "      <th>1</th>\n",
       "      <td>Dopo la storia del libro della nonna, sinceram...</td>\n",
       "      <td>2023-12-09</td>\n",
       "    </tr>\n",
       "    <tr>\n",
       "      <th>2</th>\n",
       "      <td>Pornografia del dolore.</td>\n",
       "      <td>2023-12-09</td>\n",
       "    </tr>\n",
       "    <tr>\n",
       "      <th>3</th>\n",
       "      <td>Ma sembra che cascate dal pero. E sempre stato...</td>\n",
       "      <td>2023-12-09</td>\n",
       "    </tr>\n",
       "    <tr>\n",
       "      <th>4</th>\n",
       "      <td>condivido in toto, sin dal primo istante quest...</td>\n",
       "      <td>2023-12-09</td>\n",
       "    </tr>\n",
       "    <tr>\n",
       "      <th>...</th>\n",
       "      <td>...</td>\n",
       "      <td>...</td>\n",
       "    </tr>\n",
       "    <tr>\n",
       "      <th>1145</th>\n",
       "      <td>Non me ne frega un cazzo oggi, non me ne frega...</td>\n",
       "      <td>2023-11-20</td>\n",
       "    </tr>\n",
       "    <tr>\n",
       "      <th>1146</th>\n",
       "      <td>Io ho sempre avuto hobby a forte presenza masc...</td>\n",
       "      <td>2023-11-20</td>\n",
       "    </tr>\n",
       "    <tr>\n",
       "      <th>1147</th>\n",
       "      <td>Io piscio in piedi. Conta?</td>\n",
       "      <td>2023-11-20</td>\n",
       "    </tr>\n",
       "    <tr>\n",
       "      <th>1148</th>\n",
       "      <td>A ma se penso a cosa succedeva nella mia class...</td>\n",
       "      <td>2023-11-20</td>\n",
       "    </tr>\n",
       "    <tr>\n",
       "      <th>1149</th>\n",
       "      <td>Tu stai però descrivendo ciò che accade durant...</td>\n",
       "      <td>2023-11-21</td>\n",
       "    </tr>\n",
       "  </tbody>\n",
       "</table>\n",
       "<p>1150 rows × 2 columns</p>\n",
       "</div>"
      ],
      "text/plain": [
       "                                                Comment        Date\n",
       "0     Se posti uno screenshot di giornale metti anch...  2023-12-09\n",
       "1     Dopo la storia del libro della nonna, sinceram...  2023-12-09\n",
       "2                               Pornografia del dolore.  2023-12-09\n",
       "3     Ma sembra che cascate dal pero. E sempre stato...  2023-12-09\n",
       "4     condivido in toto, sin dal primo istante quest...  2023-12-09\n",
       "...                                                 ...         ...\n",
       "1145  Non me ne frega un cazzo oggi, non me ne frega...  2023-11-20\n",
       "1146  Io ho sempre avuto hobby a forte presenza masc...  2023-11-20\n",
       "1147                         Io piscio in piedi. Conta?  2023-11-20\n",
       "1148  A ma se penso a cosa succedeva nella mia class...  2023-11-20\n",
       "1149  Tu stai però descrivendo ciò che accade durant...  2023-11-21\n",
       "\n",
       "[1150 rows x 2 columns]"
      ]
     },
     "execution_count": 9,
     "metadata": {},
     "output_type": "execute_result"
    }
   ],
   "source": [
    "pd.read_csv('../dataset_input/Giulia_cecchettin.csv')"
   ]
  },
  {
   "cell_type": "markdown",
   "metadata": {},
   "source": [
    "##### Giulia Tramontano"
   ]
  },
  {
   "cell_type": "code",
   "execution_count": 19,
   "metadata": {},
   "outputs": [],
   "source": [
    "df_tramontano.to_csv(\"../dataset_input/Giulia_Tramontano\", index=False)\n",
    "df_tramontano = df_tramontano.sort_values(by='Date')"
   ]
  },
  {
   "cell_type": "code",
   "execution_count": 20,
   "metadata": {},
   "outputs": [
    {
     "data": {
      "text/html": [
       "<div>\n",
       "<style scoped>\n",
       "    .dataframe tbody tr th:only-of-type {\n",
       "        vertical-align: middle;\n",
       "    }\n",
       "\n",
       "    .dataframe tbody tr th {\n",
       "        vertical-align: top;\n",
       "    }\n",
       "\n",
       "    .dataframe thead th {\n",
       "        text-align: right;\n",
       "    }\n",
       "</style>\n",
       "<table border=\"1\" class=\"dataframe\">\n",
       "  <thead>\n",
       "    <tr style=\"text-align: right;\">\n",
       "      <th></th>\n",
       "      <th>Comment</th>\n",
       "      <th>Date</th>\n",
       "    </tr>\n",
       "  </thead>\n",
       "  <tbody>\n",
       "    <tr>\n",
       "      <th>0</th>\n",
       "      <td>Ma ragazzi ma i commenti fanno paura. Esiste d...</td>\n",
       "      <td>2023-08-30</td>\n",
       "    </tr>\n",
       "    <tr>\n",
       "      <th>1</th>\n",
       "      <td>Stanno così tanti commenti di gente allibita d...</td>\n",
       "      <td>2023-08-30</td>\n",
       "    </tr>\n",
       "    <tr>\n",
       "      <th>2</th>\n",
       "      <td>Sono allibita da questi commenti… \\n\\nNon c’en...</td>\n",
       "      <td>2023-08-30</td>\n",
       "    </tr>\n",
       "    <tr>\n",
       "      <th>3</th>\n",
       "      <td>La giustizia italiana ce la mette proprio tutt...</td>\n",
       "      <td>2023-08-30</td>\n",
       "    </tr>\n",
       "    <tr>\n",
       "      <th>4</th>\n",
       "      <td>Piccolo appunto: io renderei obbligatorio che ...</td>\n",
       "      <td>2023-08-30</td>\n",
       "    </tr>\n",
       "    <tr>\n",
       "      <th>5</th>\n",
       "      <td>Scorrere nei commenti fa venire i brividi. Ma ...</td>\n",
       "      <td>2023-08-30</td>\n",
       "    </tr>\n",
       "    <tr>\n",
       "      <th>6</th>\n",
       "      <td>Le persone nei commenti non hanno capito che è...</td>\n",
       "      <td>2023-08-30</td>\n",
       "    </tr>\n",
       "    <tr>\n",
       "      <th>7</th>\n",
       "      <td>A mio modesto avviso non solo c'è premeditazio...</td>\n",
       "      <td>2023-08-30</td>\n",
       "    </tr>\n",
       "    <tr>\n",
       "      <th>8</th>\n",
       "      <td>LeGgErE i CoMmEnTi</td>\n",
       "      <td>2023-08-30</td>\n",
       "    </tr>\n",
       "    <tr>\n",
       "      <th>9</th>\n",
       "      <td>Il pezzo del Corriere non sarà dei migliori ma...</td>\n",
       "      <td>2023-08-30</td>\n",
       "    </tr>\n",
       "    <tr>\n",
       "      <th>10</th>\n",
       "      <td>It looks like OP posted an AMP link. These sho...</td>\n",
       "      <td>2023-08-30</td>\n",
       "    </tr>\n",
       "    <tr>\n",
       "      <th>11</th>\n",
       "      <td>Dal momento che è tristemente pieno di coglion...</td>\n",
       "      <td>2023-08-30</td>\n",
       "    </tr>\n",
       "    <tr>\n",
       "      <th>12</th>\n",
       "      <td>Nn ho il coraggio di leggere mi sta venendo da...</td>\n",
       "      <td>2023-08-30</td>\n",
       "    </tr>\n",
       "    <tr>\n",
       "      <th>13</th>\n",
       "      <td>Che schifo di gente ... mamma mia mi sta venen...</td>\n",
       "      <td>2023-08-30</td>\n",
       "    </tr>\n",
       "    <tr>\n",
       "      <th>14</th>\n",
       "      <td>Maaa il cazzo che me ne frega?</td>\n",
       "      <td>2023-08-30</td>\n",
       "    </tr>\n",
       "    <tr>\n",
       "      <th>15</th>\n",
       "      <td>BENVENGA CHI SCRIVE COSA PENSA. I FALSI CHE SC...</td>\n",
       "      <td>2023-08-30</td>\n",
       "    </tr>\n",
       "    <tr>\n",
       "      <th>16</th>\n",
       "      <td>Questi problemi si risolverebbero, almeno parz...</td>\n",
       "      <td>2023-08-30</td>\n",
       "    </tr>\n",
       "    <tr>\n",
       "      <th>17</th>\n",
       "      <td>Basterebbe permettere agli uomini di rifiutare...</td>\n",
       "      <td>2023-08-30</td>\n",
       "    </tr>\n",
       "    <tr>\n",
       "      <th>18</th>\n",
       "      <td>Giusto escludere la crudeltà. Sulla premeditaz...</td>\n",
       "      <td>2023-08-30</td>\n",
       "    </tr>\n",
       "    <tr>\n",
       "      <th>19</th>\n",
       "      <td>It looks like OP posted an AMP link. These sho...</td>\n",
       "      <td>2023-06-01</td>\n",
       "    </tr>\n",
       "  </tbody>\n",
       "</table>\n",
       "</div>"
      ],
      "text/plain": [
       "                                              Comment        Date\n",
       "0   Ma ragazzi ma i commenti fanno paura. Esiste d...  2023-08-30\n",
       "1   Stanno così tanti commenti di gente allibita d...  2023-08-30\n",
       "2   Sono allibita da questi commenti… \\n\\nNon c’en...  2023-08-30\n",
       "3   La giustizia italiana ce la mette proprio tutt...  2023-08-30\n",
       "4   Piccolo appunto: io renderei obbligatorio che ...  2023-08-30\n",
       "5   Scorrere nei commenti fa venire i brividi. Ma ...  2023-08-30\n",
       "6   Le persone nei commenti non hanno capito che è...  2023-08-30\n",
       "7   A mio modesto avviso non solo c'è premeditazio...  2023-08-30\n",
       "8                                  LeGgErE i CoMmEnTi  2023-08-30\n",
       "9   Il pezzo del Corriere non sarà dei migliori ma...  2023-08-30\n",
       "10  It looks like OP posted an AMP link. These sho...  2023-08-30\n",
       "11  Dal momento che è tristemente pieno di coglion...  2023-08-30\n",
       "12  Nn ho il coraggio di leggere mi sta venendo da...  2023-08-30\n",
       "13  Che schifo di gente ... mamma mia mi sta venen...  2023-08-30\n",
       "14                     Maaa il cazzo che me ne frega?  2023-08-30\n",
       "15  BENVENGA CHI SCRIVE COSA PENSA. I FALSI CHE SC...  2023-08-30\n",
       "16  Questi problemi si risolverebbero, almeno parz...  2023-08-30\n",
       "17  Basterebbe permettere agli uomini di rifiutare...  2023-08-30\n",
       "18  Giusto escludere la crudeltà. Sulla premeditaz...  2023-08-30\n",
       "19  It looks like OP posted an AMP link. These sho...  2023-06-01"
      ]
     },
     "execution_count": 20,
     "metadata": {},
     "output_type": "execute_result"
    }
   ],
   "source": [
    "pd.read_csv('../dataset_input/Giulia_Tramontano.csv')"
   ]
  },
  {
   "cell_type": "code",
   "execution_count": 12,
   "metadata": {},
   "outputs": [],
   "source": [
    "# for post in top_posts:\n",
    "#     print(\"Title: \", post.title)\n",
    "#     for comment in post.comments:\n",
    "#         try:\n",
    "#             print(comment.body)\n",
    "#         except:\n",
    "#             print(\"\\n\")\n",
    "#         list_comments = comment.replies.list()\n",
    "#         for el in list_comments:\n",
    "#             try:\n",
    "#                 print(el.body)\n",
    "#             except:\n",
    "#                 print(\"Except\")\n",
    "#     print(\"-----------------------------------------\")"
   ]
  }
 ],
 "metadata": {
  "kernelspec": {
   "display_name": "Python 3",
   "language": "python",
   "name": "python3"
  },
  "language_info": {
   "codemirror_mode": {
    "name": "ipython",
    "version": 3
   },
   "file_extension": ".py",
   "mimetype": "text/x-python",
   "name": "python",
   "nbconvert_exporter": "python",
   "pygments_lexer": "ipython3",
   "version": "3.10.11"
  }
 },
 "nbformat": 4,
 "nbformat_minor": 2
}
