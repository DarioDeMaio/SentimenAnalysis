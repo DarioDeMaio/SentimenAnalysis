{
 "cells": [
  {
   "cell_type": "markdown",
   "metadata": {},
   "source": [
    "# Classifier"
   ]
  },
  {
   "cell_type": "markdown",
   "metadata": {},
   "source": [
    "#### Installare le dipendenze necessarie"
   ]
  },
  {
   "cell_type": "code",
   "execution_count": 1,
   "metadata": {},
   "outputs": [
    {
     "name": "stdout",
     "output_type": "stream",
     "text": [
      "Requirement already satisfied: feel-it in c:\\users\\demai\\appdata\\local\\packages\\pythonsoftwarefoundation.python.3.10_qbz5n2kfra8p0\\localcache\\local-packages\\python310\\site-packages (1.0.5)\n",
      "Requirement already satisfied: transformers>=4.11.3 in c:\\users\\demai\\appdata\\local\\packages\\pythonsoftwarefoundation.python.3.10_qbz5n2kfra8p0\\localcache\\local-packages\\python310\\site-packages (from feel-it) (4.28.1)\n",
      "Requirement already satisfied: numpy in c:\\users\\demai\\appdata\\local\\packages\\pythonsoftwarefoundation.python.3.10_qbz5n2kfra8p0\\localcache\\local-packages\\python310\\site-packages (from feel-it) (1.23.5)\n",
      "Requirement already satisfied: torch>=1.6.0 in c:\\users\\demai\\appdata\\local\\packages\\pythonsoftwarefoundation.python.3.10_qbz5n2kfra8p0\\localcache\\local-packages\\python310\\site-packages (from feel-it) (2.0.0+cu117)\n",
      "Requirement already satisfied: filelock in c:\\users\\demai\\appdata\\local\\packages\\pythonsoftwarefoundation.python.3.10_qbz5n2kfra8p0\\localcache\\local-packages\\python310\\site-packages (from torch>=1.6.0->feel-it) (3.9.0)\n",
      "Requirement already satisfied: typing-extensions in c:\\users\\demai\\appdata\\local\\packages\\pythonsoftwarefoundation.python.3.10_qbz5n2kfra8p0\\localcache\\local-packages\\python310\\site-packages (from torch>=1.6.0->feel-it) (4.4.0)\n",
      "Requirement already satisfied: sympy in c:\\users\\demai\\appdata\\local\\packages\\pythonsoftwarefoundation.python.3.10_qbz5n2kfra8p0\\localcache\\local-packages\\python310\\site-packages (from torch>=1.6.0->feel-it) (1.11.1)\n",
      "Requirement already satisfied: networkx in c:\\users\\demai\\appdata\\local\\packages\\pythonsoftwarefoundation.python.3.10_qbz5n2kfra8p0\\localcache\\local-packages\\python310\\site-packages (from torch>=1.6.0->feel-it) (3.0)\n",
      "Requirement already satisfied: jinja2 in c:\\users\\demai\\appdata\\local\\packages\\pythonsoftwarefoundation.python.3.10_qbz5n2kfra8p0\\localcache\\local-packages\\python310\\site-packages (from torch>=1.6.0->feel-it) (3.1.2)\n",
      "Requirement already satisfied: huggingface-hub<1.0,>=0.11.0 in c:\\users\\demai\\appdata\\local\\packages\\pythonsoftwarefoundation.python.3.10_qbz5n2kfra8p0\\localcache\\local-packages\\python310\\site-packages (from transformers>=4.11.3->feel-it) (0.13.4)\n",
      "Requirement already satisfied: packaging>=20.0 in c:\\users\\demai\\appdata\\local\\packages\\pythonsoftwarefoundation.python.3.10_qbz5n2kfra8p0\\localcache\\local-packages\\python310\\site-packages (from transformers>=4.11.3->feel-it) (22.0)\n",
      "Requirement already satisfied: pyyaml>=5.1 in c:\\users\\demai\\appdata\\local\\packages\\pythonsoftwarefoundation.python.3.10_qbz5n2kfra8p0\\localcache\\local-packages\\python310\\site-packages (from transformers>=4.11.3->feel-it) (6.0)\n",
      "Requirement already satisfied: regex!=2019.12.17 in c:\\users\\demai\\appdata\\local\\packages\\pythonsoftwarefoundation.python.3.10_qbz5n2kfra8p0\\localcache\\local-packages\\python310\\site-packages (from transformers>=4.11.3->feel-it) (2023.3.23)\n",
      "Requirement already satisfied: requests in c:\\users\\demai\\appdata\\local\\packages\\pythonsoftwarefoundation.python.3.10_qbz5n2kfra8p0\\localcache\\local-packages\\python310\\site-packages (from transformers>=4.11.3->feel-it) (2.28.2)\n",
      "Requirement already satisfied: tokenizers!=0.11.3,<0.14,>=0.11.1 in c:\\users\\demai\\appdata\\local\\packages\\pythonsoftwarefoundation.python.3.10_qbz5n2kfra8p0\\localcache\\local-packages\\python310\\site-packages (from transformers>=4.11.3->feel-it) (0.13.3)\n",
      "Requirement already satisfied: tqdm>=4.27 in c:\\users\\demai\\appdata\\local\\packages\\pythonsoftwarefoundation.python.3.10_qbz5n2kfra8p0\\localcache\\local-packages\\python310\\site-packages (from transformers>=4.11.3->feel-it) (4.65.0)\n",
      "Requirement already satisfied: colorama in c:\\users\\demai\\appdata\\local\\packages\\pythonsoftwarefoundation.python.3.10_qbz5n2kfra8p0\\localcache\\local-packages\\python310\\site-packages (from tqdm>=4.27->transformers>=4.11.3->feel-it) (0.4.6)\n",
      "Requirement already satisfied: MarkupSafe>=2.0 in c:\\users\\demai\\appdata\\local\\packages\\pythonsoftwarefoundation.python.3.10_qbz5n2kfra8p0\\localcache\\local-packages\\python310\\site-packages (from jinja2->torch>=1.6.0->feel-it) (2.1.2)\n",
      "Requirement already satisfied: charset-normalizer<4,>=2 in c:\\users\\demai\\appdata\\local\\packages\\pythonsoftwarefoundation.python.3.10_qbz5n2kfra8p0\\localcache\\local-packages\\python310\\site-packages (from requests->transformers>=4.11.3->feel-it) (3.0.1)\n",
      "Requirement already satisfied: idna<4,>=2.5 in c:\\users\\demai\\appdata\\local\\packages\\pythonsoftwarefoundation.python.3.10_qbz5n2kfra8p0\\localcache\\local-packages\\python310\\site-packages (from requests->transformers>=4.11.3->feel-it) (3.4)\n",
      "Requirement already satisfied: urllib3<1.27,>=1.21.1 in c:\\users\\demai\\appdata\\local\\packages\\pythonsoftwarefoundation.python.3.10_qbz5n2kfra8p0\\localcache\\local-packages\\python310\\site-packages (from requests->transformers>=4.11.3->feel-it) (1.26.14)\n",
      "Requirement already satisfied: certifi>=2017.4.17 in c:\\users\\demai\\appdata\\local\\packages\\pythonsoftwarefoundation.python.3.10_qbz5n2kfra8p0\\localcache\\local-packages\\python310\\site-packages (from requests->transformers>=4.11.3->feel-it) (2022.12.7)\n",
      "Requirement already satisfied: mpmath>=0.19 in c:\\users\\demai\\appdata\\local\\packages\\pythonsoftwarefoundation.python.3.10_qbz5n2kfra8p0\\localcache\\local-packages\\python310\\site-packages (from sympy->torch>=1.6.0->feel-it) (1.2.1)\n"
     ]
    },
    {
     "name": "stderr",
     "output_type": "stream",
     "text": [
      "DEPRECATION: pytorch-lightning 1.5.10 has a non-standard dependency specifier torch>=1.7.*. pip 24.0 will enforce this behaviour change. A possible replacement is to upgrade to a newer version of pytorch-lightning or contact the author to suggest that they release a version with a conforming dependency specifiers. Discussion can be found at https://github.com/pypa/pip/issues/12063\n",
      "\n",
      "[notice] A new release of pip is available: 23.3.1 -> 23.3.2\n",
      "[notice] To update, run: C:\\Users\\demai\\AppData\\Local\\Microsoft\\WindowsApps\\PythonSoftwareFoundation.Python.3.10_qbz5n2kfra8p0\\python.exe -m pip install --upgrade pip\n"
     ]
    }
   ],
   "source": [
    "!pip install -U feel-it"
   ]
  },
  {
   "cell_type": "markdown",
   "metadata": {},
   "source": [
    "#### **Setup di Feel_it, Pandas, nltk e re**: In questa cella, vengono importate le librerie necessarie."
   ]
  },
  {
   "cell_type": "code",
   "execution_count": 2,
   "metadata": {},
   "outputs": [],
   "source": [
    "from feel_it import EmotionClassifier\n",
    "import pandas as pd\n",
    "import nltk\n",
    "from nltk.corpus import stopwords\n",
    "import re"
   ]
  },
  {
   "cell_type": "markdown",
   "metadata": {},
   "source": [
    "#### **Lettura dei due Dataset**"
   ]
  },
  {
   "cell_type": "code",
   "execution_count": 3,
   "metadata": {},
   "outputs": [],
   "source": [
    "df = pd.read_csv('../dataset_input/Giulia_cecchettin.csv')\n",
    "df2 = pd.read_csv('../dataset_input/Giulia_Tramontano.csv')"
   ]
  },
  {
   "cell_type": "code",
   "execution_count": 4,
   "metadata": {},
   "outputs": [
    {
     "data": {
      "text/html": [
       "<div>\n",
       "<style scoped>\n",
       "    .dataframe tbody tr th:only-of-type {\n",
       "        vertical-align: middle;\n",
       "    }\n",
       "\n",
       "    .dataframe tbody tr th {\n",
       "        vertical-align: top;\n",
       "    }\n",
       "\n",
       "    .dataframe thead th {\n",
       "        text-align: right;\n",
       "    }\n",
       "</style>\n",
       "<table border=\"1\" class=\"dataframe\">\n",
       "  <thead>\n",
       "    <tr style=\"text-align: right;\">\n",
       "      <th></th>\n",
       "      <th>Comment</th>\n",
       "      <th>Date</th>\n",
       "    </tr>\n",
       "  </thead>\n",
       "  <tbody>\n",
       "    <tr>\n",
       "      <th>0</th>\n",
       "      <td>Se posti uno screenshot di giornale metti anch...</td>\n",
       "      <td>2023-12-09</td>\n",
       "    </tr>\n",
       "    <tr>\n",
       "      <th>1</th>\n",
       "      <td>Dopo la storia del libro della nonna, sinceram...</td>\n",
       "      <td>2023-12-09</td>\n",
       "    </tr>\n",
       "    <tr>\n",
       "      <th>2</th>\n",
       "      <td>Pornografia del dolore.</td>\n",
       "      <td>2023-12-09</td>\n",
       "    </tr>\n",
       "    <tr>\n",
       "      <th>3</th>\n",
       "      <td>Ma sembra che cascate dal pero. E sempre stato...</td>\n",
       "      <td>2023-12-09</td>\n",
       "    </tr>\n",
       "    <tr>\n",
       "      <th>4</th>\n",
       "      <td>condivido in toto, sin dal primo istante quest...</td>\n",
       "      <td>2023-12-09</td>\n",
       "    </tr>\n",
       "    <tr>\n",
       "      <th>...</th>\n",
       "      <td>...</td>\n",
       "      <td>...</td>\n",
       "    </tr>\n",
       "    <tr>\n",
       "      <th>1145</th>\n",
       "      <td>Non me ne frega un cazzo oggi, non me ne frega...</td>\n",
       "      <td>2023-11-20</td>\n",
       "    </tr>\n",
       "    <tr>\n",
       "      <th>1146</th>\n",
       "      <td>Io ho sempre avuto hobby a forte presenza masc...</td>\n",
       "      <td>2023-11-20</td>\n",
       "    </tr>\n",
       "    <tr>\n",
       "      <th>1147</th>\n",
       "      <td>Io piscio in piedi. Conta?</td>\n",
       "      <td>2023-11-20</td>\n",
       "    </tr>\n",
       "    <tr>\n",
       "      <th>1148</th>\n",
       "      <td>A ma se penso a cosa succedeva nella mia class...</td>\n",
       "      <td>2023-11-20</td>\n",
       "    </tr>\n",
       "    <tr>\n",
       "      <th>1149</th>\n",
       "      <td>Tu stai però descrivendo ciò che accade durant...</td>\n",
       "      <td>2023-11-21</td>\n",
       "    </tr>\n",
       "  </tbody>\n",
       "</table>\n",
       "<p>1150 rows × 2 columns</p>\n",
       "</div>"
      ],
      "text/plain": [
       "                                                Comment        Date\n",
       "0     Se posti uno screenshot di giornale metti anch...  2023-12-09\n",
       "1     Dopo la storia del libro della nonna, sinceram...  2023-12-09\n",
       "2                               Pornografia del dolore.  2023-12-09\n",
       "3     Ma sembra che cascate dal pero. E sempre stato...  2023-12-09\n",
       "4     condivido in toto, sin dal primo istante quest...  2023-12-09\n",
       "...                                                 ...         ...\n",
       "1145  Non me ne frega un cazzo oggi, non me ne frega...  2023-11-20\n",
       "1146  Io ho sempre avuto hobby a forte presenza masc...  2023-11-20\n",
       "1147                         Io piscio in piedi. Conta?  2023-11-20\n",
       "1148  A ma se penso a cosa succedeva nella mia class...  2023-11-20\n",
       "1149  Tu stai però descrivendo ciò che accade durant...  2023-11-21\n",
       "\n",
       "[1150 rows x 2 columns]"
      ]
     },
     "execution_count": 4,
     "metadata": {},
     "output_type": "execute_result"
    }
   ],
   "source": [
    "df"
   ]
  },
  {
   "cell_type": "code",
   "execution_count": 5,
   "metadata": {},
   "outputs": [
    {
     "data": {
      "text/html": [
       "<div>\n",
       "<style scoped>\n",
       "    .dataframe tbody tr th:only-of-type {\n",
       "        vertical-align: middle;\n",
       "    }\n",
       "\n",
       "    .dataframe tbody tr th {\n",
       "        vertical-align: top;\n",
       "    }\n",
       "\n",
       "    .dataframe thead th {\n",
       "        text-align: right;\n",
       "    }\n",
       "</style>\n",
       "<table border=\"1\" class=\"dataframe\">\n",
       "  <thead>\n",
       "    <tr style=\"text-align: right;\">\n",
       "      <th></th>\n",
       "      <th>Comment</th>\n",
       "      <th>Date</th>\n",
       "    </tr>\n",
       "  </thead>\n",
       "  <tbody>\n",
       "    <tr>\n",
       "      <th>0</th>\n",
       "      <td>Ma ragazzi ma i commenti fanno paura. Esiste d...</td>\n",
       "      <td>2023-08-30</td>\n",
       "    </tr>\n",
       "    <tr>\n",
       "      <th>1</th>\n",
       "      <td>Stanno così tanti commenti di gente allibita d...</td>\n",
       "      <td>2023-08-30</td>\n",
       "    </tr>\n",
       "    <tr>\n",
       "      <th>2</th>\n",
       "      <td>Sono allibita da questi commenti… \\n\\nNon c’en...</td>\n",
       "      <td>2023-08-30</td>\n",
       "    </tr>\n",
       "    <tr>\n",
       "      <th>3</th>\n",
       "      <td>La giustizia italiana ce la mette proprio tutt...</td>\n",
       "      <td>2023-08-30</td>\n",
       "    </tr>\n",
       "    <tr>\n",
       "      <th>4</th>\n",
       "      <td>Piccolo appunto: io renderei obbligatorio che ...</td>\n",
       "      <td>2023-08-30</td>\n",
       "    </tr>\n",
       "    <tr>\n",
       "      <th>5</th>\n",
       "      <td>Scorrere nei commenti fa venire i brividi. Ma ...</td>\n",
       "      <td>2023-08-30</td>\n",
       "    </tr>\n",
       "    <tr>\n",
       "      <th>6</th>\n",
       "      <td>Le persone nei commenti non hanno capito che è...</td>\n",
       "      <td>2023-08-30</td>\n",
       "    </tr>\n",
       "    <tr>\n",
       "      <th>7</th>\n",
       "      <td>A mio modesto avviso non solo c'è premeditazio...</td>\n",
       "      <td>2023-08-30</td>\n",
       "    </tr>\n",
       "    <tr>\n",
       "      <th>8</th>\n",
       "      <td>LeGgErE i CoMmEnTi</td>\n",
       "      <td>2023-08-30</td>\n",
       "    </tr>\n",
       "    <tr>\n",
       "      <th>9</th>\n",
       "      <td>Il pezzo del Corriere non sarà dei migliori ma...</td>\n",
       "      <td>2023-08-30</td>\n",
       "    </tr>\n",
       "    <tr>\n",
       "      <th>10</th>\n",
       "      <td>It looks like OP posted an AMP link. These sho...</td>\n",
       "      <td>2023-08-30</td>\n",
       "    </tr>\n",
       "    <tr>\n",
       "      <th>11</th>\n",
       "      <td>Dal momento che è tristemente pieno di coglion...</td>\n",
       "      <td>2023-08-30</td>\n",
       "    </tr>\n",
       "    <tr>\n",
       "      <th>12</th>\n",
       "      <td>Nn ho il coraggio di leggere mi sta venendo da...</td>\n",
       "      <td>2023-08-30</td>\n",
       "    </tr>\n",
       "    <tr>\n",
       "      <th>13</th>\n",
       "      <td>Che schifo di gente ... mamma mia mi sta venen...</td>\n",
       "      <td>2023-08-30</td>\n",
       "    </tr>\n",
       "    <tr>\n",
       "      <th>14</th>\n",
       "      <td>Maaa il cazzo che me ne frega?</td>\n",
       "      <td>2023-08-30</td>\n",
       "    </tr>\n",
       "    <tr>\n",
       "      <th>15</th>\n",
       "      <td>BENVENGA CHI SCRIVE COSA PENSA. I FALSI CHE SC...</td>\n",
       "      <td>2023-08-30</td>\n",
       "    </tr>\n",
       "    <tr>\n",
       "      <th>16</th>\n",
       "      <td>Questi problemi si risolverebbero, almeno parz...</td>\n",
       "      <td>2023-08-30</td>\n",
       "    </tr>\n",
       "    <tr>\n",
       "      <th>17</th>\n",
       "      <td>Basterebbe permettere agli uomini di rifiutare...</td>\n",
       "      <td>2023-08-30</td>\n",
       "    </tr>\n",
       "    <tr>\n",
       "      <th>18</th>\n",
       "      <td>Giusto escludere la crudeltà. Sulla premeditaz...</td>\n",
       "      <td>2023-08-30</td>\n",
       "    </tr>\n",
       "    <tr>\n",
       "      <th>19</th>\n",
       "      <td>It looks like OP posted an AMP link. These sho...</td>\n",
       "      <td>2023-06-01</td>\n",
       "    </tr>\n",
       "  </tbody>\n",
       "</table>\n",
       "</div>"
      ],
      "text/plain": [
       "                                              Comment        Date\n",
       "0   Ma ragazzi ma i commenti fanno paura. Esiste d...  2023-08-30\n",
       "1   Stanno così tanti commenti di gente allibita d...  2023-08-30\n",
       "2   Sono allibita da questi commenti… \\n\\nNon c’en...  2023-08-30\n",
       "3   La giustizia italiana ce la mette proprio tutt...  2023-08-30\n",
       "4   Piccolo appunto: io renderei obbligatorio che ...  2023-08-30\n",
       "5   Scorrere nei commenti fa venire i brividi. Ma ...  2023-08-30\n",
       "6   Le persone nei commenti non hanno capito che è...  2023-08-30\n",
       "7   A mio modesto avviso non solo c'è premeditazio...  2023-08-30\n",
       "8                                  LeGgErE i CoMmEnTi  2023-08-30\n",
       "9   Il pezzo del Corriere non sarà dei migliori ma...  2023-08-30\n",
       "10  It looks like OP posted an AMP link. These sho...  2023-08-30\n",
       "11  Dal momento che è tristemente pieno di coglion...  2023-08-30\n",
       "12  Nn ho il coraggio di leggere mi sta venendo da...  2023-08-30\n",
       "13  Che schifo di gente ... mamma mia mi sta venen...  2023-08-30\n",
       "14                     Maaa il cazzo che me ne frega?  2023-08-30\n",
       "15  BENVENGA CHI SCRIVE COSA PENSA. I FALSI CHE SC...  2023-08-30\n",
       "16  Questi problemi si risolverebbero, almeno parz...  2023-08-30\n",
       "17  Basterebbe permettere agli uomini di rifiutare...  2023-08-30\n",
       "18  Giusto escludere la crudeltà. Sulla premeditaz...  2023-08-30\n",
       "19  It looks like OP posted an AMP link. These sho...  2023-06-01"
      ]
     },
     "execution_count": 5,
     "metadata": {},
     "output_type": "execute_result"
    }
   ],
   "source": [
    "df2"
   ]
  },
  {
   "cell_type": "markdown",
   "metadata": {},
   "source": [
    "## Data Preparation"
   ]
  },
  {
   "cell_type": "markdown",
   "metadata": {},
   "source": [
    "#### Identificazione e rimozione delle stopwords e dei commenti che introducono informazioni errate, come: gif, immagini e video"
   ]
  },
  {
   "cell_type": "code",
   "execution_count": 6,
   "metadata": {},
   "outputs": [
    {
     "name": "stderr",
     "output_type": "stream",
     "text": [
      "[nltk_data] Downloading package stopwords to\n",
      "[nltk_data]     C:\\Users\\demai\\AppData\\Roaming\\nltk_data...\n",
      "[nltk_data]   Package stopwords is already up-to-date!\n"
     ]
    }
   ],
   "source": [
    "nltk.download('stopwords')\n",
    "stop_words = set(stopwords.words('italian'))\n",
    "\n",
    "def remove_stopwords(comment):\n",
    "    comment = re.sub(r'^\\s*!', '', comment)\n",
    "    \n",
    "    # Rimuovi le stopwords\n",
    "    tokens = [word.lower() for word in comment.split() if word.lower() not in stop_words]\n",
    "    filtered_text = ' '.join(tokens)\n",
    "    return filtered_text\n"
   ]
  },
  {
   "cell_type": "code",
   "execution_count": 7,
   "metadata": {},
   "outputs": [],
   "source": [
    "for i in range(len(df)):\n",
    "    updated_comment = remove_stopwords(df['Comment'][i])\n",
    "    \n",
    "    if updated_comment:\n",
    "        df.at[i, 'Comment'] = updated_comment"
   ]
  },
  {
   "cell_type": "code",
   "execution_count": 8,
   "metadata": {},
   "outputs": [],
   "source": [
    "for i in range(len(df2)):\n",
    "    updated_comment = remove_stopwords(df2['Comment'][i])\n",
    "    \n",
    "    if updated_comment:\n",
    "        df2.at[i, 'Comment'] = updated_comment"
   ]
  },
  {
   "cell_type": "code",
   "execution_count": 9,
   "metadata": {},
   "outputs": [
    {
     "data": {
      "text/html": [
       "<div>\n",
       "<style scoped>\n",
       "    .dataframe tbody tr th:only-of-type {\n",
       "        vertical-align: middle;\n",
       "    }\n",
       "\n",
       "    .dataframe tbody tr th {\n",
       "        vertical-align: top;\n",
       "    }\n",
       "\n",
       "    .dataframe thead th {\n",
       "        text-align: right;\n",
       "    }\n",
       "</style>\n",
       "<table border=\"1\" class=\"dataframe\">\n",
       "  <thead>\n",
       "    <tr style=\"text-align: right;\">\n",
       "      <th></th>\n",
       "      <th>Comment</th>\n",
       "      <th>Date</th>\n",
       "    </tr>\n",
       "  </thead>\n",
       "  <tbody>\n",
       "    <tr>\n",
       "      <th>0</th>\n",
       "      <td>posti screenshot giornale metti link all'artic...</td>\n",
       "      <td>2023-12-09</td>\n",
       "    </tr>\n",
       "    <tr>\n",
       "      <th>1</th>\n",
       "      <td>dopo storia libro nonna, sinceramente smesso a...</td>\n",
       "      <td>2023-12-09</td>\n",
       "    </tr>\n",
       "    <tr>\n",
       "      <th>2</th>\n",
       "      <td>pornografia dolore.</td>\n",
       "      <td>2023-12-09</td>\n",
       "    </tr>\n",
       "    <tr>\n",
       "      <th>3</th>\n",
       "      <td>sembra cascate pero. sempre stato così peggio....</td>\n",
       "      <td>2023-12-09</td>\n",
       "    </tr>\n",
       "    <tr>\n",
       "      <th>4</th>\n",
       "      <td>condivido toto, sin primo istante e' solo feno...</td>\n",
       "      <td>2023-12-09</td>\n",
       "    </tr>\n",
       "    <tr>\n",
       "      <th>...</th>\n",
       "      <td>...</td>\n",
       "      <td>...</td>\n",
       "    </tr>\n",
       "    <tr>\n",
       "      <th>1145</th>\n",
       "      <td>me frega cazzo oggi, me fregava cazzo ieri e, ...</td>\n",
       "      <td>2023-11-20</td>\n",
       "    </tr>\n",
       "    <tr>\n",
       "      <th>1146</th>\n",
       "      <td>sempre hobby forte presenza maschile quindi on...</td>\n",
       "      <td>2023-11-20</td>\n",
       "    </tr>\n",
       "    <tr>\n",
       "      <th>1147</th>\n",
       "      <td>piscio piedi. conta?</td>\n",
       "      <td>2023-11-20</td>\n",
       "    </tr>\n",
       "    <tr>\n",
       "      <th>1148</th>\n",
       "      <td>penso cosa succedeva classe 5/6 anni fa denunc...</td>\n",
       "      <td>2023-11-20</td>\n",
       "    </tr>\n",
       "    <tr>\n",
       "      <th>1149</th>\n",
       "      <td>però descrivendo ciò accade durante l'adolesce...</td>\n",
       "      <td>2023-11-21</td>\n",
       "    </tr>\n",
       "  </tbody>\n",
       "</table>\n",
       "<p>1150 rows × 2 columns</p>\n",
       "</div>"
      ],
      "text/plain": [
       "                                                Comment        Date\n",
       "0     posti screenshot giornale metti link all'artic...  2023-12-09\n",
       "1     dopo storia libro nonna, sinceramente smesso a...  2023-12-09\n",
       "2                                   pornografia dolore.  2023-12-09\n",
       "3     sembra cascate pero. sempre stato così peggio....  2023-12-09\n",
       "4     condivido toto, sin primo istante e' solo feno...  2023-12-09\n",
       "...                                                 ...         ...\n",
       "1145  me frega cazzo oggi, me fregava cazzo ieri e, ...  2023-11-20\n",
       "1146  sempre hobby forte presenza maschile quindi on...  2023-11-20\n",
       "1147                               piscio piedi. conta?  2023-11-20\n",
       "1148  penso cosa succedeva classe 5/6 anni fa denunc...  2023-11-20\n",
       "1149  però descrivendo ciò accade durante l'adolesce...  2023-11-21\n",
       "\n",
       "[1150 rows x 2 columns]"
      ]
     },
     "execution_count": 9,
     "metadata": {},
     "output_type": "execute_result"
    }
   ],
   "source": [
    "df"
   ]
  },
  {
   "cell_type": "code",
   "execution_count": 10,
   "metadata": {},
   "outputs": [
    {
     "data": {
      "text/html": [
       "<div>\n",
       "<style scoped>\n",
       "    .dataframe tbody tr th:only-of-type {\n",
       "        vertical-align: middle;\n",
       "    }\n",
       "\n",
       "    .dataframe tbody tr th {\n",
       "        vertical-align: top;\n",
       "    }\n",
       "\n",
       "    .dataframe thead th {\n",
       "        text-align: right;\n",
       "    }\n",
       "</style>\n",
       "<table border=\"1\" class=\"dataframe\">\n",
       "  <thead>\n",
       "    <tr style=\"text-align: right;\">\n",
       "      <th></th>\n",
       "      <th>Comment</th>\n",
       "      <th>Date</th>\n",
       "    </tr>\n",
       "  </thead>\n",
       "  <tbody>\n",
       "    <tr>\n",
       "      <th>0</th>\n",
       "      <td>ragazzi commenti paura. esiste davvero gente p...</td>\n",
       "      <td>2023-08-30</td>\n",
       "    </tr>\n",
       "    <tr>\n",
       "      <th>1</th>\n",
       "      <td>così tanti commenti gente allibita commenti tr...</td>\n",
       "      <td>2023-08-30</td>\n",
       "    </tr>\n",
       "    <tr>\n",
       "      <th>2</th>\n",
       "      <td>allibita commenti… c’entra niente questione ge...</td>\n",
       "      <td>2023-08-30</td>\n",
       "    </tr>\n",
       "    <tr>\n",
       "      <th>3</th>\n",
       "      <td>giustizia italiana ce mette proprio tutta risu...</td>\n",
       "      <td>2023-08-30</td>\n",
       "    </tr>\n",
       "    <tr>\n",
       "      <th>4</th>\n",
       "      <td>piccolo appunto: renderei obbligatorio gip ess...</td>\n",
       "      <td>2023-08-30</td>\n",
       "    </tr>\n",
       "    <tr>\n",
       "      <th>5</th>\n",
       "      <td>scorrere commenti fa venire brividi. seriament...</td>\n",
       "      <td>2023-08-30</td>\n",
       "    </tr>\n",
       "    <tr>\n",
       "      <th>6</th>\n",
       "      <td>persone commenti capito un'assurdità pensare u...</td>\n",
       "      <td>2023-08-30</td>\n",
       "    </tr>\n",
       "    <tr>\n",
       "      <th>7</th>\n",
       "      <td>modesto avviso solo c'è premeditazione, dovreb...</td>\n",
       "      <td>2023-08-30</td>\n",
       "    </tr>\n",
       "    <tr>\n",
       "      <th>8</th>\n",
       "      <td>leggere commenti</td>\n",
       "      <td>2023-08-30</td>\n",
       "    </tr>\n",
       "    <tr>\n",
       "      <th>9</th>\n",
       "      <td>pezzo corriere migliori sembra ben fatto. test...</td>\n",
       "      <td>2023-08-30</td>\n",
       "    </tr>\n",
       "    <tr>\n",
       "      <th>10</th>\n",
       "      <td>it looks like op posted an amp link. these sho...</td>\n",
       "      <td>2023-08-30</td>\n",
       "    </tr>\n",
       "    <tr>\n",
       "      <th>11</th>\n",
       "      <td>momento tristemente pieno coglioni incel redpi...</td>\n",
       "      <td>2023-08-30</td>\n",
       "    </tr>\n",
       "    <tr>\n",
       "      <th>12</th>\n",
       "      <td>nn coraggio leggere venendo piangere</td>\n",
       "      <td>2023-08-30</td>\n",
       "    </tr>\n",
       "    <tr>\n",
       "      <th>13</th>\n",
       "      <td>schifo gente ... mamma venendo pelle d oca</td>\n",
       "      <td>2023-08-30</td>\n",
       "    </tr>\n",
       "    <tr>\n",
       "      <th>14</th>\n",
       "      <td>maaa cazzo me frega?</td>\n",
       "      <td>2023-08-30</td>\n",
       "    </tr>\n",
       "    <tr>\n",
       "      <th>15</th>\n",
       "      <td>benvenga scrive cosa pensa. falsi scrivono cos...</td>\n",
       "      <td>2023-08-30</td>\n",
       "    </tr>\n",
       "    <tr>\n",
       "      <th>16</th>\n",
       "      <td>problemi risolverebbero, almeno parzialmente, ...</td>\n",
       "      <td>2023-08-30</td>\n",
       "    </tr>\n",
       "    <tr>\n",
       "      <th>17</th>\n",
       "      <td>basterebbe permettere uomini rifiutare genitor...</td>\n",
       "      <td>2023-08-30</td>\n",
       "    </tr>\n",
       "    <tr>\n",
       "      <th>18</th>\n",
       "      <td>giusto escludere crudeltà. premeditazione so. ...</td>\n",
       "      <td>2023-08-30</td>\n",
       "    </tr>\n",
       "    <tr>\n",
       "      <th>19</th>\n",
       "      <td>it looks like op posted an amp link. these sho...</td>\n",
       "      <td>2023-06-01</td>\n",
       "    </tr>\n",
       "  </tbody>\n",
       "</table>\n",
       "</div>"
      ],
      "text/plain": [
       "                                              Comment        Date\n",
       "0   ragazzi commenti paura. esiste davvero gente p...  2023-08-30\n",
       "1   così tanti commenti gente allibita commenti tr...  2023-08-30\n",
       "2   allibita commenti… c’entra niente questione ge...  2023-08-30\n",
       "3   giustizia italiana ce mette proprio tutta risu...  2023-08-30\n",
       "4   piccolo appunto: renderei obbligatorio gip ess...  2023-08-30\n",
       "5   scorrere commenti fa venire brividi. seriament...  2023-08-30\n",
       "6   persone commenti capito un'assurdità pensare u...  2023-08-30\n",
       "7   modesto avviso solo c'è premeditazione, dovreb...  2023-08-30\n",
       "8                                    leggere commenti  2023-08-30\n",
       "9   pezzo corriere migliori sembra ben fatto. test...  2023-08-30\n",
       "10  it looks like op posted an amp link. these sho...  2023-08-30\n",
       "11  momento tristemente pieno coglioni incel redpi...  2023-08-30\n",
       "12               nn coraggio leggere venendo piangere  2023-08-30\n",
       "13         schifo gente ... mamma venendo pelle d oca  2023-08-30\n",
       "14                               maaa cazzo me frega?  2023-08-30\n",
       "15  benvenga scrive cosa pensa. falsi scrivono cos...  2023-08-30\n",
       "16  problemi risolverebbero, almeno parzialmente, ...  2023-08-30\n",
       "17  basterebbe permettere uomini rifiutare genitor...  2023-08-30\n",
       "18  giusto escludere crudeltà. premeditazione so. ...  2023-08-30\n",
       "19  it looks like op posted an amp link. these sho...  2023-06-01"
      ]
     },
     "execution_count": 10,
     "metadata": {},
     "output_type": "execute_result"
    }
   ],
   "source": [
    "df2"
   ]
  },
  {
   "cell_type": "markdown",
   "metadata": {},
   "source": [
    "#### Conversione della colonna \"Comment\" in una lista"
   ]
  },
  {
   "cell_type": "code",
   "execution_count": 12,
   "metadata": {},
   "outputs": [],
   "source": [
    "list_comments = df['Comment'].to_list()\n",
    "list_comments2 = df2['Comment'].to_list()"
   ]
  },
  {
   "cell_type": "markdown",
   "metadata": {},
   "source": [
    "#### Definizione del modello"
   ]
  },
  {
   "cell_type": "code",
   "execution_count": 13,
   "metadata": {},
   "outputs": [],
   "source": [
    "emotion_classifier = EmotionClassifier()"
   ]
  },
  {
   "cell_type": "markdown",
   "metadata": {},
   "source": [
    "#### Acquisizione dei risultati"
   ]
  },
  {
   "cell_type": "code",
   "execution_count": 14,
   "metadata": {},
   "outputs": [],
   "source": [
    "label_output = emotion_classifier.predict(list_comments)"
   ]
  },
  {
   "cell_type": "code",
   "execution_count": 15,
   "metadata": {},
   "outputs": [],
   "source": [
    "label_output2 = emotion_classifier.predict(list_comments2)"
   ]
  },
  {
   "cell_type": "markdown",
   "metadata": {},
   "source": [
    "#### Creazione dei dataset finali"
   ]
  },
  {
   "cell_type": "code",
   "execution_count": 18,
   "metadata": {},
   "outputs": [],
   "source": [
    "d = {'Emotion': label_output}\n",
    "label = pd.DataFrame(d)"
   ]
  },
  {
   "cell_type": "code",
   "execution_count": 19,
   "metadata": {},
   "outputs": [],
   "source": [
    "d2 = {'Emotion': label_output2}\n",
    "label2 = pd.DataFrame(d2)"
   ]
  },
  {
   "cell_type": "code",
   "execution_count": 20,
   "metadata": {},
   "outputs": [],
   "source": [
    "df_final = df.join(label)\n",
    "df_final2 = df2.join(label2)"
   ]
  },
  {
   "cell_type": "code",
   "execution_count": 21,
   "metadata": {},
   "outputs": [],
   "source": [
    "df_final.to_csv(\"../results/Results_Cecchettin.csv\", index=False)\n",
    "df_final2.to_csv(\"../results/Results_Tramontano.csv\", index=False)"
   ]
  }
 ],
 "metadata": {
  "kernelspec": {
   "display_name": "Python 3",
   "language": "python",
   "name": "python3"
  },
  "language_info": {
   "codemirror_mode": {
    "name": "ipython",
    "version": 3
   },
   "file_extension": ".py",
   "mimetype": "text/x-python",
   "name": "python",
   "nbconvert_exporter": "python",
   "pygments_lexer": "ipython3",
   "version": "3.10.11"
  }
 },
 "nbformat": 4,
 "nbformat_minor": 2
}
